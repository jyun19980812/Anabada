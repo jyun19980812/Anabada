{
  "cells": [
    {
      "cell_type": "markdown",
      "metadata": {
        "id": "MOZZZEpPMyMN"
      },
      "source": [
        "# Google Hackathon: 온실가스가 환경에 미치는 영향 분석 및 앱 개발\n",
        "\n",
        "**Business Case**\n",
        "\n",
        "- 이 프로젝트는 미국인들의 기후변화 회의론을 극복하고 지속 가능한 행동을 촉진하기 위해, 다양한 환경 및 사회경제 데이터를 종합적으로 분석하여 지구 온난화에 기여하는 주요 오염물질과 이와 관련된 사회경제적 요인을 식별하는 것을 목표로 한다. 실제로, 14%의 미국인들이 기후 변화는 증거가 없으며 이를 통해, 오염물질과 사회경제적 조건 사이의 상관관계를 규명하고, 기후변화 회의론자들에게 설득력 있는 증거를 제시하며, 보다 강력한 환경 보호 전략을 개발하고자 한다. 이러한 데이터 기반의 통찰력은 정책 결정자들이 보다 효과적인 기후 정책을 수립하는 데 도움을 줄 뿐만 아니라, 대중의 인식을 높이고 행동 변화를 유도하는 데에도 기여할 것이다. 또한, 재활용을 촉진하는 아나바다 앱과 연계하여 실질적인 환경 개선 효과를 기대하며, 궁극적으로 글로벌 기후변화 대응 노력을 지원하는 것이 이 프로젝트의 핵심이다.\n",
        "\n",
        "**연구 질문**\n",
        "- *지구 온난화에 가장 크게 기여하는 오염물질은 무엇이며, 이와 관련된 사회경제적 요인은 무엇인가?*\n",
        "\n",
        "**연구 목표**\n",
        "- 지구 온난화에 기여하는 주요 오염물질 식별\n",
        "- 오염물질 배출과 관련된 사회경제적 요인 분석\n",
        "- 기후변화 대응 전략 개발"
      ]
    },
    {
      "cell_type": "markdown",
      "source": [
        "### 구글 해커톤: 재활용 쓰레기 배출량이 이산화탄소 배출량에 미치는 영향 분석\n",
        "\n",
        "이산화탄소는 지구 온난화의 주범이라고 널리 알려져 있다. 또한, 재활용률이 늘어나면 탄소 배출량 또한 줄어들 것이라는 것도 널리 알려져 있는 지식이다. 이 정보가 맞는 정보인지, 그리고 미국은 정말로 재활용률의 개선이 필요한 나라일지 데이터 분석을 통해 확인해본다."
      ],
      "metadata": {
        "id": "9esbJTtJXNul"
      }
    },
    {
      "cell_type": "code",
      "source": [
        "# 필요한 패키지 설치\n",
        "# python 코드 포메터 라이브러리입니다. 필요하신분은 한번만 설치후 '%%pycodestyle'을 셀 위에 복붙하고 쓰시면 됩니다!\n",
        "!pip install pycodestyle pycodestyle_magic\n",
        "!pip install flake8\n",
        "%load_ext pycodestyle_magic"
      ],
      "metadata": {
        "colab": {
          "base_uri": "https://localhost:8080/",
          "height": 843
        },
        "id": "QSCXZVOXuPmM",
        "outputId": "6ba7ae71-3be0-45f8-ac8e-ab15f347f9c4"
      },
      "execution_count": null,
      "outputs": [
        {
          "output_type": "stream",
          "name": "stdout",
          "text": [
            "Collecting pycodestyle\n",
            "  Downloading pycodestyle-2.12.1-py2.py3-none-any.whl.metadata (4.5 kB)\n",
            "Collecting pycodestyle_magic\n",
            "  Downloading pycodestyle_magic-0.5-py2.py3-none-any.whl.metadata (322 bytes)\n",
            "Downloading pycodestyle-2.12.1-py2.py3-none-any.whl (31 kB)\n",
            "Downloading pycodestyle_magic-0.5-py2.py3-none-any.whl (9.5 kB)\n",
            "\u001b[31mERROR: Operation cancelled by user\u001b[0m\u001b[31m\n",
            "\u001b[0mCollecting flake8\n",
            "  Downloading flake8-7.1.1-py2.py3-none-any.whl.metadata (3.8 kB)\n",
            "Collecting mccabe<0.8.0,>=0.7.0 (from flake8)\n",
            "  Downloading mccabe-0.7.0-py2.py3-none-any.whl.metadata (5.0 kB)\n",
            "Collecting pycodestyle<2.13.0,>=2.12.0 (from flake8)\n",
            "  Using cached pycodestyle-2.12.1-py2.py3-none-any.whl.metadata (4.5 kB)\n",
            "Collecting pyflakes<3.3.0,>=3.2.0 (from flake8)\n",
            "  Downloading pyflakes-3.2.0-py2.py3-none-any.whl.metadata (3.5 kB)\n",
            "Downloading flake8-7.1.1-py2.py3-none-any.whl (57 kB)\n",
            "\u001b[2K   \u001b[90m━━━━━━━━━━━━━━━━━━━━━━━━━━━━━━━━━━━━━━━━\u001b[0m \u001b[32m57.7/57.7 kB\u001b[0m \u001b[31m3.0 MB/s\u001b[0m eta \u001b[36m0:00:00\u001b[0m\n",
            "\u001b[?25hDownloading mccabe-0.7.0-py2.py3-none-any.whl (7.3 kB)\n",
            "Using cached pycodestyle-2.12.1-py2.py3-none-any.whl (31 kB)\n",
            "Downloading pyflakes-3.2.0-py2.py3-none-any.whl (62 kB)\n",
            "\u001b[2K   \u001b[90m━━━━━━━━━━━━━━━━━━━━━━━━━━━━━━━━━━━━━━━━\u001b[0m \u001b[32m62.7/62.7 kB\u001b[0m \u001b[31m1.5 MB/s\u001b[0m eta \u001b[36m0:00:00\u001b[0m\n",
            "\u001b[?25hInstalling collected packages: pyflakes, pycodestyle, mccabe, flake8\n",
            "Successfully installed flake8-7.1.1 mccabe-0.7.0 pycodestyle-2.12.1 pyflakes-3.2.0\n"
          ]
        },
        {
          "output_type": "error",
          "ename": "ModuleNotFoundError",
          "evalue": "No module named 'pycodestyle_magic'",
          "traceback": [
            "\u001b[0;31m---------------------------------------------------------------------------\u001b[0m",
            "\u001b[0;31mModuleNotFoundError\u001b[0m                       Traceback (most recent call last)",
            "\u001b[0;32m<ipython-input-1-07074cd28543>\u001b[0m in \u001b[0;36m<cell line: 5>\u001b[0;34m()\u001b[0m\n\u001b[1;32m      3\u001b[0m \u001b[0mget_ipython\u001b[0m\u001b[0;34m(\u001b[0m\u001b[0;34m)\u001b[0m\u001b[0;34m.\u001b[0m\u001b[0msystem\u001b[0m\u001b[0;34m(\u001b[0m\u001b[0;34m'pip install pycodestyle pycodestyle_magic'\u001b[0m\u001b[0;34m)\u001b[0m\u001b[0;34m\u001b[0m\u001b[0;34m\u001b[0m\u001b[0m\n\u001b[1;32m      4\u001b[0m \u001b[0mget_ipython\u001b[0m\u001b[0;34m(\u001b[0m\u001b[0;34m)\u001b[0m\u001b[0;34m.\u001b[0m\u001b[0msystem\u001b[0m\u001b[0;34m(\u001b[0m\u001b[0;34m'pip install flake8'\u001b[0m\u001b[0;34m)\u001b[0m\u001b[0;34m\u001b[0m\u001b[0;34m\u001b[0m\u001b[0m\n\u001b[0;32m----> 5\u001b[0;31m \u001b[0mget_ipython\u001b[0m\u001b[0;34m(\u001b[0m\u001b[0;34m)\u001b[0m\u001b[0;34m.\u001b[0m\u001b[0mrun_line_magic\u001b[0m\u001b[0;34m(\u001b[0m\u001b[0;34m'load_ext'\u001b[0m\u001b[0;34m,\u001b[0m \u001b[0;34m'pycodestyle_magic'\u001b[0m\u001b[0;34m)\u001b[0m\u001b[0;34m\u001b[0m\u001b[0;34m\u001b[0m\u001b[0m\n\u001b[0m",
            "\u001b[0;32m/usr/local/lib/python3.10/dist-packages/IPython/core/interactiveshell.py\u001b[0m in \u001b[0;36mrun_line_magic\u001b[0;34m(self, magic_name, line, _stack_depth)\u001b[0m\n\u001b[1;32m   2416\u001b[0m                 \u001b[0mkwargs\u001b[0m\u001b[0;34m[\u001b[0m\u001b[0;34m'local_ns'\u001b[0m\u001b[0;34m]\u001b[0m \u001b[0;34m=\u001b[0m \u001b[0mself\u001b[0m\u001b[0;34m.\u001b[0m\u001b[0mget_local_scope\u001b[0m\u001b[0;34m(\u001b[0m\u001b[0mstack_depth\u001b[0m\u001b[0;34m)\u001b[0m\u001b[0;34m\u001b[0m\u001b[0;34m\u001b[0m\u001b[0m\n\u001b[1;32m   2417\u001b[0m             \u001b[0;32mwith\u001b[0m \u001b[0mself\u001b[0m\u001b[0;34m.\u001b[0m\u001b[0mbuiltin_trap\u001b[0m\u001b[0;34m:\u001b[0m\u001b[0;34m\u001b[0m\u001b[0;34m\u001b[0m\u001b[0m\n\u001b[0;32m-> 2418\u001b[0;31m                 \u001b[0mresult\u001b[0m \u001b[0;34m=\u001b[0m \u001b[0mfn\u001b[0m\u001b[0;34m(\u001b[0m\u001b[0;34m*\u001b[0m\u001b[0margs\u001b[0m\u001b[0;34m,\u001b[0m \u001b[0;34m**\u001b[0m\u001b[0mkwargs\u001b[0m\u001b[0;34m)\u001b[0m\u001b[0;34m\u001b[0m\u001b[0;34m\u001b[0m\u001b[0m\n\u001b[0m\u001b[1;32m   2419\u001b[0m             \u001b[0;32mreturn\u001b[0m \u001b[0mresult\u001b[0m\u001b[0;34m\u001b[0m\u001b[0;34m\u001b[0m\u001b[0m\n\u001b[1;32m   2420\u001b[0m \u001b[0;34m\u001b[0m\u001b[0m\n",
            "\u001b[0;32m<decorator-gen-57>\u001b[0m in \u001b[0;36mload_ext\u001b[0;34m(self, module_str)\u001b[0m\n",
            "\u001b[0;32m/usr/local/lib/python3.10/dist-packages/IPython/core/magic.py\u001b[0m in \u001b[0;36m<lambda>\u001b[0;34m(f, *a, **k)\u001b[0m\n\u001b[1;32m    185\u001b[0m     \u001b[0;31m# but it's overkill for just that one bit of state.\u001b[0m\u001b[0;34m\u001b[0m\u001b[0;34m\u001b[0m\u001b[0m\n\u001b[1;32m    186\u001b[0m     \u001b[0;32mdef\u001b[0m \u001b[0mmagic_deco\u001b[0m\u001b[0;34m(\u001b[0m\u001b[0marg\u001b[0m\u001b[0;34m)\u001b[0m\u001b[0;34m:\u001b[0m\u001b[0;34m\u001b[0m\u001b[0;34m\u001b[0m\u001b[0m\n\u001b[0;32m--> 187\u001b[0;31m         \u001b[0mcall\u001b[0m \u001b[0;34m=\u001b[0m \u001b[0;32mlambda\u001b[0m \u001b[0mf\u001b[0m\u001b[0;34m,\u001b[0m \u001b[0;34m*\u001b[0m\u001b[0ma\u001b[0m\u001b[0;34m,\u001b[0m \u001b[0;34m**\u001b[0m\u001b[0mk\u001b[0m\u001b[0;34m:\u001b[0m \u001b[0mf\u001b[0m\u001b[0;34m(\u001b[0m\u001b[0;34m*\u001b[0m\u001b[0ma\u001b[0m\u001b[0;34m,\u001b[0m \u001b[0;34m**\u001b[0m\u001b[0mk\u001b[0m\u001b[0;34m)\u001b[0m\u001b[0;34m\u001b[0m\u001b[0;34m\u001b[0m\u001b[0m\n\u001b[0m\u001b[1;32m    188\u001b[0m \u001b[0;34m\u001b[0m\u001b[0m\n\u001b[1;32m    189\u001b[0m         \u001b[0;32mif\u001b[0m \u001b[0mcallable\u001b[0m\u001b[0;34m(\u001b[0m\u001b[0marg\u001b[0m\u001b[0;34m)\u001b[0m\u001b[0;34m:\u001b[0m\u001b[0;34m\u001b[0m\u001b[0;34m\u001b[0m\u001b[0m\n",
            "\u001b[0;32m/usr/local/lib/python3.10/dist-packages/IPython/core/magics/extension.py\u001b[0m in \u001b[0;36mload_ext\u001b[0;34m(self, module_str)\u001b[0m\n\u001b[1;32m     31\u001b[0m         \u001b[0;32mif\u001b[0m \u001b[0;32mnot\u001b[0m \u001b[0mmodule_str\u001b[0m\u001b[0;34m:\u001b[0m\u001b[0;34m\u001b[0m\u001b[0;34m\u001b[0m\u001b[0m\n\u001b[1;32m     32\u001b[0m             \u001b[0;32mraise\u001b[0m \u001b[0mUsageError\u001b[0m\u001b[0;34m(\u001b[0m\u001b[0;34m'Missing module name.'\u001b[0m\u001b[0;34m)\u001b[0m\u001b[0;34m\u001b[0m\u001b[0;34m\u001b[0m\u001b[0m\n\u001b[0;32m---> 33\u001b[0;31m         \u001b[0mres\u001b[0m \u001b[0;34m=\u001b[0m \u001b[0mself\u001b[0m\u001b[0;34m.\u001b[0m\u001b[0mshell\u001b[0m\u001b[0;34m.\u001b[0m\u001b[0mextension_manager\u001b[0m\u001b[0;34m.\u001b[0m\u001b[0mload_extension\u001b[0m\u001b[0;34m(\u001b[0m\u001b[0mmodule_str\u001b[0m\u001b[0;34m)\u001b[0m\u001b[0;34m\u001b[0m\u001b[0;34m\u001b[0m\u001b[0m\n\u001b[0m\u001b[1;32m     34\u001b[0m \u001b[0;34m\u001b[0m\u001b[0m\n\u001b[1;32m     35\u001b[0m         \u001b[0;32mif\u001b[0m \u001b[0mres\u001b[0m \u001b[0;34m==\u001b[0m \u001b[0;34m'already loaded'\u001b[0m\u001b[0;34m:\u001b[0m\u001b[0;34m\u001b[0m\u001b[0;34m\u001b[0m\u001b[0m\n",
            "\u001b[0;32m/usr/local/lib/python3.10/dist-packages/IPython/core/extensions.py\u001b[0m in \u001b[0;36mload_extension\u001b[0;34m(self, module_str)\u001b[0m\n\u001b[1;32m     78\u001b[0m             \u001b[0;32mif\u001b[0m \u001b[0mmodule_str\u001b[0m \u001b[0;32mnot\u001b[0m \u001b[0;32min\u001b[0m \u001b[0msys\u001b[0m\u001b[0;34m.\u001b[0m\u001b[0mmodules\u001b[0m\u001b[0;34m:\u001b[0m\u001b[0;34m\u001b[0m\u001b[0;34m\u001b[0m\u001b[0m\n\u001b[1;32m     79\u001b[0m                 \u001b[0;32mwith\u001b[0m \u001b[0mprepended_to_syspath\u001b[0m\u001b[0;34m(\u001b[0m\u001b[0mself\u001b[0m\u001b[0;34m.\u001b[0m\u001b[0mipython_extension_dir\u001b[0m\u001b[0;34m)\u001b[0m\u001b[0;34m:\u001b[0m\u001b[0;34m\u001b[0m\u001b[0;34m\u001b[0m\u001b[0m\n\u001b[0;32m---> 80\u001b[0;31m                     \u001b[0mmod\u001b[0m \u001b[0;34m=\u001b[0m \u001b[0mimport_module\u001b[0m\u001b[0;34m(\u001b[0m\u001b[0mmodule_str\u001b[0m\u001b[0;34m)\u001b[0m\u001b[0;34m\u001b[0m\u001b[0;34m\u001b[0m\u001b[0m\n\u001b[0m\u001b[1;32m     81\u001b[0m                     \u001b[0;32mif\u001b[0m \u001b[0mmod\u001b[0m\u001b[0;34m.\u001b[0m\u001b[0m__file__\u001b[0m\u001b[0;34m.\u001b[0m\u001b[0mstartswith\u001b[0m\u001b[0;34m(\u001b[0m\u001b[0mself\u001b[0m\u001b[0;34m.\u001b[0m\u001b[0mipython_extension_dir\u001b[0m\u001b[0;34m)\u001b[0m\u001b[0;34m:\u001b[0m\u001b[0;34m\u001b[0m\u001b[0;34m\u001b[0m\u001b[0m\n\u001b[1;32m     82\u001b[0m                         print((\"Loading extensions from {dir} is deprecated. \"\n",
            "\u001b[0;32m/usr/lib/python3.10/importlib/__init__.py\u001b[0m in \u001b[0;36mimport_module\u001b[0;34m(name, package)\u001b[0m\n\u001b[1;32m    124\u001b[0m                 \u001b[0;32mbreak\u001b[0m\u001b[0;34m\u001b[0m\u001b[0;34m\u001b[0m\u001b[0m\n\u001b[1;32m    125\u001b[0m             \u001b[0mlevel\u001b[0m \u001b[0;34m+=\u001b[0m \u001b[0;36m1\u001b[0m\u001b[0;34m\u001b[0m\u001b[0;34m\u001b[0m\u001b[0m\n\u001b[0;32m--> 126\u001b[0;31m     \u001b[0;32mreturn\u001b[0m \u001b[0m_bootstrap\u001b[0m\u001b[0;34m.\u001b[0m\u001b[0m_gcd_import\u001b[0m\u001b[0;34m(\u001b[0m\u001b[0mname\u001b[0m\u001b[0;34m[\u001b[0m\u001b[0mlevel\u001b[0m\u001b[0;34m:\u001b[0m\u001b[0;34m]\u001b[0m\u001b[0;34m,\u001b[0m \u001b[0mpackage\u001b[0m\u001b[0;34m,\u001b[0m \u001b[0mlevel\u001b[0m\u001b[0;34m)\u001b[0m\u001b[0;34m\u001b[0m\u001b[0;34m\u001b[0m\u001b[0m\n\u001b[0m\u001b[1;32m    127\u001b[0m \u001b[0;34m\u001b[0m\u001b[0m\n\u001b[1;32m    128\u001b[0m \u001b[0;34m\u001b[0m\u001b[0m\n",
            "\u001b[0;32m/usr/lib/python3.10/importlib/_bootstrap.py\u001b[0m in \u001b[0;36m_gcd_import\u001b[0;34m(name, package, level)\u001b[0m\n",
            "\u001b[0;32m/usr/lib/python3.10/importlib/_bootstrap.py\u001b[0m in \u001b[0;36m_find_and_load\u001b[0;34m(name, import_)\u001b[0m\n",
            "\u001b[0;32m/usr/lib/python3.10/importlib/_bootstrap.py\u001b[0m in \u001b[0;36m_find_and_load_unlocked\u001b[0;34m(name, import_)\u001b[0m\n",
            "\u001b[0;31mModuleNotFoundError\u001b[0m: No module named 'pycodestyle_magic'",
            "",
            "\u001b[0;31m---------------------------------------------------------------------------\u001b[0;32m\nNOTE: If your import is failing due to a missing package, you can\nmanually install dependencies using either !pip or !apt.\n\nTo view examples of installing some common dependencies, click the\n\"Open Examples\" button below.\n\u001b[0;31m---------------------------------------------------------------------------\u001b[0m\n"
          ],
          "errorDetails": {
            "actions": [
              {
                "action": "open_url",
                "actionText": "Open Examples",
                "url": "/notebooks/snippets/importing_libraries.ipynb"
              }
            ]
          }
        }
      ]
    },
    {
      "cell_type": "code",
      "source": [
        "# pycaret으로 모델 설치\n",
        "!pip install pycaret\n",
        "\n",
        "# lightgbm 모델 설치\n",
        "!pip install lightgbm"
      ],
      "metadata": {
        "id": "0UWt9-B5lPgT"
      },
      "execution_count": null,
      "outputs": []
    },
    {
      "cell_type": "code",
      "execution_count": null,
      "metadata": {
        "id": "c_bPG4huv1K8"
      },
      "outputs": [],
      "source": [
        "# 필요한 라이브러리 불러오기\n",
        "import pandas as pd\n",
        "import random\n",
        "import numpy as np\n",
        "import os\n",
        "import seaborn as sns\n",
        "import matplotlib.pyplot as plt\n",
        "import ipywidgets as widgets\n",
        "import statsmodels.api as sm\n",
        "import statsmodels.formula.api as smf\n",
        "from statsmodels.stats.outliers_influence import variance_inflation_factor\n",
        "from sklearn.linear_model import LassoCV, Lasso, LinearRegression\n",
        "from sklearn.preprocessing import StandardScaler\n",
        "from sklearn.pipeline import make_pipeline\n",
        "from sklearn.model_selection import train_test_split\n",
        "from lightgbm import LGBMRegressor\n",
        "from sklearn.metrics import mean_squared_error\n",
        "from sklearn.ensemble import RandomForestRegressor\n",
        "from yellowbrick.regressor import PredictionError, ResidualsPlot\n",
        "from pycaret.regression import setup, compare_models, pull, create_model, \\\n",
        "                               tune_model, predict_model\n",
        "import plotly.express as px\n",
        "import plotly.graph_objects as go\n",
        "from scipy.stats import ttest_ind"
      ]
    },
    {
      "cell_type": "code",
      "execution_count": null,
      "metadata": {
        "id": "7u_XLmyqvvas"
      },
      "outputs": [],
      "source": [
        "# Working in Google Colab\n",
        "from google.colab import drive\n",
        "drive.mount('/content/drive')"
      ]
    },
    {
      "cell_type": "code",
      "execution_count": null,
      "metadata": {
        "id": "oDBfpZRWv0Sx"
      },
      "outputs": [],
      "source": [
        "# Change Directory within Google Drive\n",
        "os.chdir(\"/content/drive/MyDrive/아나바다/Data\")"
      ]
    },
    {
      "cell_type": "markdown",
      "metadata": {
        "id": "tn9faZGq0M0s"
      },
      "source": [
        "## 데이터 전처리 및 병합"
      ]
    },
    {
      "cell_type": "code",
      "execution_count": null,
      "metadata": {
        "id": "Y8uE0YQ50Yqd"
      },
      "outputs": [],
      "source": [
        "# 데이터를 먼저 파악해본다.\n",
        "# Waste Data 불러오기\n",
        "data = pd.read_csv(\"OECD_Waste_Data.csv\")\n",
        "data"
      ]
    },
    {
      "cell_type": "code",
      "execution_count": null,
      "metadata": {
        "id": "rVNM76q8sjTU"
      },
      "outputs": [],
      "source": [
        "# 쓰레기 데이터 국가 이름 파악\n",
        "data['Reference area'].unique()"
      ]
    },
    {
      "cell_type": "code",
      "execution_count": null,
      "metadata": {
        "id": "_MYo3pPJuUep"
      },
      "outputs": [],
      "source": [
        "# CO2 Data 불러오기\n",
        "co2_data = pd.read_csv('CO2_Data.csv')\n",
        "co2_data"
      ]
    },
    {
      "cell_type": "code",
      "execution_count": null,
      "metadata": {
        "id": "SLf9NdV1ugnI"
      },
      "outputs": [],
      "source": [
        "# 쓰레기 데이터 국가 이름 파악\n",
        "co2_data['country'].unique()"
      ]
    },
    {
      "cell_type": "code",
      "execution_count": null,
      "metadata": {
        "id": "L1F_aY3UumSa"
      },
      "outputs": [],
      "source": [
        "# 데이터 별 국가의 이름이 서로 다른 것 같다. (예: Korea -> South Korea).\n",
        "# 따라서 이름에 매핑이 필요한 것 같다.\n",
        "# 이름 매핑 딕셔너리 생성\n",
        "name_mapping = {\n",
        "    'Czechia': 'Czech Republic',\n",
        "    'Korea': 'South Korea',\n",
        "    'Türkiye': 'Turkey',\n",
        "    'United States': 'USA',\n",
        "    'United Kingdom': 'UK',\n",
        "    'Schweiz': 'Switzerland',\n",
        "    'Deutschland': 'Germany'\n",
        "}\n",
        "\n",
        "# 이름 변경\n",
        "data['Reference area'] = data['Reference area'].replace(name_mapping)"
      ]
    },
    {
      "cell_type": "code",
      "execution_count": null,
      "metadata": {
        "id": "-qh_elhgzKPg"
      },
      "outputs": [],
      "source": [
        "# 데이터 저장\n",
        "data.to_csv(\"OECD_Waste_Data.csv\", index=False)"
      ]
    },
    {
      "cell_type": "code",
      "source": [
        "co2_data"
      ],
      "metadata": {
        "id": "IxZw-EVPXB9P"
      },
      "execution_count": null,
      "outputs": []
    },
    {
      "cell_type": "code",
      "source": [
        "# CO2 데이터의 년도별로 다른 것을 한 컬럼으로 묶어준다.\n",
        "co2_data = pd.melt(co2_data, id_vars=['country'], var_name='year',\n",
        "                   value_name='co2_emission')"
      ],
      "metadata": {
        "id": "6IY_ZrsyidpS"
      },
      "execution_count": null,
      "outputs": []
    },
    {
      "cell_type": "code",
      "execution_count": null,
      "metadata": {
        "id": "eSqZE2Y5x1LE"
      },
      "outputs": [],
      "source": [
        "# CO2 데이터도 나라 이름에 걸맞게 필터링을 진행해준다.\n",
        "ls = ['Australia', 'Costa Rica', 'Spain', 'Greece', 'Netherlands', 'Sweden',\n",
        "      'Switzerland', 'Germany', 'Hungary', 'Italy', 'Japan', 'South Korea',\n",
        "      'New Zealand', 'Austria', 'Chile', 'France', 'Mexico', 'Norway',\n",
        "      'Slovenia', 'Colombia', 'Czech Republic', 'Denmark', 'Belgium', 'Canada',\n",
        "      'Luxembourg', 'Latvia', 'Portugal', 'Slovak Republic', 'USA', 'Iceland',\n",
        "      'Israel', 'Poland', 'Turkey', 'Estonia', 'UK', 'Finland', 'Ireland',\n",
        "      'Lithuania']\n",
        "co2_data = co2_data[co2_data['country'].isin(ls) == True]\n",
        "co2_data['country'].unique()"
      ]
    },
    {
      "cell_type": "code",
      "source": [
        "# 데이터 타입 변환\n",
        "co2_data = co2_data.astype({'year': 'int64', 'co2_emission': 'float'})"
      ],
      "metadata": {
        "id": "RCKkBQtDfBaf"
      },
      "execution_count": null,
      "outputs": []
    },
    {
      "cell_type": "code",
      "execution_count": null,
      "metadata": {
        "id": "m3eIYLoYzdzc"
      },
      "outputs": [],
      "source": [
        "# 데이터 저장\n",
        "co2_data.to_csv('CO2_Data.csv', index=False)"
      ]
    },
    {
      "cell_type": "code",
      "execution_count": null,
      "metadata": {
        "id": "14r28HO1DB0u"
      },
      "outputs": [],
      "source": [
        "# 쓰레기 데이터 열 이름 재설정\n",
        "df_waste = data.rename(columns={'Reference area' : 'country',\n",
        "                                'TIME_PERIOD' : 'year'})\n",
        "# 쓰레기 데이터와 Co2 데이터 병합\n",
        "df_merged = pd.merge(df_waste, co2_data, on = ['country', 'year'],\n",
        "                     how = \"left\")"
      ]
    },
    {
      "cell_type": "code",
      "execution_count": null,
      "metadata": {
        "id": "YJYBZYejD9mJ"
      },
      "outputs": [],
      "source": [
        "# 결측치 확인\n",
        "df_merged.isna().sum()"
      ]
    },
    {
      "cell_type": "code",
      "execution_count": null,
      "metadata": {
        "id": "MpXVcQJ7EWoL"
      },
      "outputs": [],
      "source": [
        "# 비어있는 열과 관련이 없어 보이는 열은 드랍하기로 결정했다.\n",
        "columns_to_drop = ['Time period', 'Observation value', 'OBS_STATUS_2',\n",
        "                'Observation status 2', 'OBS_STATUS_3', 'Observation status 3',\n",
        "                'OBS_STATUS_4', 'Observation status 4', 'CONVERSION_TYPE',\n",
        "                'Conversion type', 'BASE_PER', 'Base period', 'PRICE_BASE',\n",
        "                'Price base']\n",
        "df_merged = df_merged.drop(columns=columns_to_drop)"
      ]
    },
    {
      "cell_type": "code",
      "execution_count": null,
      "metadata": {
        "id": "m3HeUEoVFXPE"
      },
      "outputs": [],
      "source": [
        "# 데이터 저장\n",
        "df_merged.to_csv('merged_df.csv', index=False)"
      ]
    },
    {
      "cell_type": "markdown",
      "metadata": {
        "id": "Gdl3bG6SGYFZ"
      },
      "source": [
        "## 데이터 EDA\n"
      ]
    },
    {
      "cell_type": "code",
      "execution_count": null,
      "metadata": {
        "id": "0SdOvR2oGaCB"
      },
      "outputs": [],
      "source": [
        "# 데이터 불러오기\n",
        "df = pd.read_csv('merged_df.csv')\n",
        "df"
      ]
    },
    {
      "cell_type": "code",
      "execution_count": null,
      "metadata": {
        "id": "qhfqGqTcOTWy"
      },
      "outputs": [],
      "source": [
        "# 분석에 필요할 것 같은 컬럼들만 분류\n",
        "df = df[['REF_AREA','country','MEASURE', 'Measure', 'Unit of measure', 'year',\n",
        "    'OBS_VALUE', 'Observation status', 'Unit multiplier', 'co2_emission']]\n",
        "df"
      ]
    },
    {
      "cell_type": "markdown",
      "metadata": {
        "id": "HLruRXNL4T2D"
      },
      "source": [
        "### Description of columns\n",
        "\n",
        "- REF_AREA: 국가 코드\n",
        "\n",
        "- country: 국가명\n",
        "\n",
        "- MEASURE: 처리 방법\n",
        "  - MUNICIPAL : 총 쓰레기 (Total waste generated)\n",
        "  - DISPOSAL : 폐기물 쓰레기 (매각, 비에너지화 소각, 기타)\n",
        "  - RECOVERY : 재활용 쓰레기 (재활용, 퇴비화, 에너지화 소각, 기타)\n",
        "\n",
        "\n",
        "- Unit of Measure: 단위\n",
        "  - Percentage of treated waste : 쓰레기로 처리된 비율\n",
        "  - Tonnes : 실제 쓰레기 양 (톤)\n",
        "\n",
        "- year: 관측연도\n",
        "\n",
        "- OBS_VALUE:\n",
        "  - 비율이랑 실제 관측량 섞여 있음\n",
        "\n",
        "- Observation status: 상태\n",
        "  - Estimated value (E): 예상치\n",
        "  - Normal value (A): 정상값\n",
        "  - Time series break (B): 시계열 중단?\n",
        "  - Value imputed by a receiving agency (I): 이상치?\n",
        "- Unit multipiler: 숫자 단위\n",
        "  - Thousands일 시 OBS_VALUE = `Percentage of treated waste`\n",
        "  - Units일 시 OBS_VALUE = `Tonnes`\n",
        "- co2_emmission: 인당 이산화탄소 배출량\n",
        "\n",
        "\n",
        "``` 소문자는 CO2, 대문자는 OECD 데이터의 칼럼이다```\n",
        "\n"
      ]
    },
    {
      "cell_type": "markdown",
      "metadata": {
        "id": "A1tD-ZfZPmJj"
      },
      "source": [
        "### 가설 1: 미국이 다른 OECD 국가보다 이산화탄소 배출량이 높을 것이다.\n",
        "\n",
        "요약: 대부분의 경우 USA의 배출량이 가장 높다. LUX만이 전체 년도에서 USA보다 높은 이산화탄소 배출량을 보였다. 그러나 바 그래프가 불완전한 모양이었기 때문에 완전히 신뢰하기는 어렵다."
      ]
    },
    {
      "cell_type": "code",
      "execution_count": null,
      "metadata": {
        "id": "Q04feJJXPCzS"
      },
      "outputs": [],
      "source": [
        "# 비교를 위해 나라 이름, 연도, co2_emmision만 남긴다.\n",
        "df_co2 = df[['REF_AREA', 'country', 'year', 'co2_emission']]\n",
        "df_co2.head(20)"
      ]
    },
    {
      "cell_type": "code",
      "execution_count": null,
      "metadata": {
        "id": "fUsgU24SoDcI"
      },
      "outputs": [],
      "source": [
        "# Unit, measure, status 등등으로 중복값 너무 많으므로, 제거하기로 결정했다.\n",
        "df_co2 = df_co2.drop_duplicates()\n",
        "df_co2.sort_values(by=['REF_AREA', 'year']) # 잘 됐나 체크"
      ]
    },
    {
      "cell_type": "markdown",
      "metadata": {
        "id": "AdPldFmmpEyI"
      },
      "source": [
        "같은 년도의 데이터가 존재하지 않는 것으로 파악되므로 중복은 없어진 것 같다.\n",
        "38개국이 있기 때문에 6개 국가씩 미국과 비교한다."
      ]
    },
    {
      "cell_type": "code",
      "execution_count": null,
      "metadata": {
        "id": "AW2H3Hy_pDp9"
      },
      "outputs": [],
      "source": [
        "# 미국이랑 다른 나라를 나누기\n",
        "usa_data = df_co2[df_co2['country'] == 'USA']\n",
        "others = df_co2[df_co2['country'] != 'USA']['country'].unique()\n",
        "\n",
        "# 그룹으로 묶음\n",
        "country_group = [others[i:i+6] for i in range(0, len(others), 6)]\n",
        "country_group"
      ]
    },
    {
      "cell_type": "code",
      "execution_count": null,
      "metadata": {
        "id": "4dAbvmrnpRzo"
      },
      "outputs": [],
      "source": [
        "# 그래프 그리기\n",
        "for i, group in enumerate(country_group):\n",
        "  plt.figure(figsize=(15, 6))\n",
        "\n",
        "  # USA를 강조하기 위해 marker는 * 표시를 하여 그래프를 강조\n",
        "  plt.plot(usa_data['year'], usa_data['co2_emission'], label='USA',\n",
        "           marker='*', linewidth=2, color='red')\n",
        "\n",
        "  # 컬러 파레트 설정\n",
        "  colors = ['gray', 'green', 'pink', 'orange', 'purple', 'brown', 'blue']\n",
        "\n",
        "  # 국가 수가 6의 배수가 아니고 랜덤으로 뽑아야 하기 때문에 random.sample을 사용한다.\n",
        "  group_colors = random.sample(colors, len(group))\n",
        "\n",
        "  # 나라, 색 같이 골라야 하니까 zip으로 묶어서 for loop을 돌린다.\n",
        "  for country, color in zip(group, group_colors):\n",
        "    country_data = df_co2[df_co2['country'] == country]\n",
        "    plt.plot(country_data['year'], country_data['co2_emission'], label=country,\n",
        "             marker='o', linewidth=2, color=color)\n",
        "\n",
        "  plt.title(f'Co2 Emissions of USA and Group {i+1}')\n",
        "  plt.xlabel('Year')\n",
        "  plt.ylabel('Co2 Emission')\n",
        "  plt.legend()\n",
        "\n",
        "  plt.grid(True)\n",
        "\n",
        "plt.show()"
      ]
    },
    {
      "cell_type": "markdown",
      "metadata": {
        "id": "fhWizZ2kp-dy"
      },
      "source": [
        "#### 결론\n",
        "Switzerland. Belgium, Luxembourg 세 국가를 제외하고는 USA의 Co2 Emission이 가장 높은 것으로 파악된다. Co2 per Capita라는 특성상, 지리적으로 이산화탄소 배출량이 많은 국가고 인구 수가 적을 수록 수치가 높아진다. 스위스는 자국에서 에너지 자원을 많이 생산하지 않고 대부분의 에너지 자원을 수입에 의존하기 때문에 Co2 배출량이 높아지는 현상이 있다. 또한 Belgium의 경우 중공업이 발달된 국가이며 화석 연료를 주로 쓰는 국가이기에 이산화탄소 배출량이 높아진다. 마지막으로 Luxembourg는 인구 수가 매우 적은 국가로, 상대적으로 높게 측정되는 경향이 있다.\n",
        "\n",
        "미국은 인구 수 3위를 기록하며 Co2 Emission Per Capita가 4번째로 가장 높게 나타난다는 것은 이산화탄소 배출량이 상당히 높다는 것으로 생각이 된다."
      ]
    },
    {
      "cell_type": "markdown",
      "metadata": {
        "id": "cmbSlzhuPrnT"
      },
      "source": [
        "### 가설 2: 미국이 다른 OECD 국가보다 재활용 쓰레기 처리 비율이 낮을 것이다."
      ]
    },
    {
      "cell_type": "code",
      "execution_count": null,
      "metadata": {
        "id": "I6v53hWTdf4-"
      },
      "outputs": [],
      "source": [
        "# 미국의 재활용 쓰레기 비율을 알아보기 위해 데이터 전처리를 한다.\n",
        "# 먼저 쓰레기 매립량, 재활용량, 전체 쓰레기량을 합산하여, 비율을 계산한다.\n",
        "\n",
        "# Filter data where 'Unit of measure' is 'Tonnes'\n",
        "data_tonnes = df[df['Unit of measure'] == 'Tonnes']\n",
        "\n",
        "# Calculate the total disposal (including other disposal) for each country and year\n",
        "landfill_operations = data_tonnes[data_tonnes['MEASURE'] == 'LANDFILL'] \\\n",
        "                      .groupby(['country', 'year'])['OBS_VALUE'].sum()\n",
        "\n",
        "# Calculate the total recovery (including other recovery) for each country and year\n",
        "recycling_operations = data_tonnes[data_tonnes['MEASURE'] == 'RECYCLING'] \\\n",
        "                      .groupby(['country', 'year'])['OBS_VALUE'].sum()\n",
        "\n",
        "# Get total waste generated\n",
        "total_waste_generated = data_tonnes[data_tonnes['MEASURE'] == 'MUNICIPAL'] \\\n",
        "                        .groupby(['country', 'year'])['OBS_VALUE'].sum()\n",
        "\n",
        "# Convert series to dataframes\n",
        "total_landfill_df = landfill_operations.reset_index(name='Total_Landfill')\n",
        "total_recycling_df = recycling_operations.reset_index(name='Total_Recycling')\n",
        "total_waste_generated_df = total_waste_generated \\\n",
        "                          .reset_index(name='Total_Waste_Generated')\n",
        "\n",
        "# Merge the dataframes\n",
        "analysis_df = pd.merge(total_waste_generated_df, total_landfill_df,\n",
        "                       on=['country', 'year'], how='left')\n",
        "analysis_df = pd.merge(analysis_df, total_recycling_df,\n",
        "                       on=['country', 'year'], how='left')\n",
        "\n",
        "# Calculate the disposal and recovery rates\n",
        "analysis_df['Landfill_Rate'] = analysis_df['Total_Landfill'] / \\\n",
        "                               analysis_df['Total_Waste_Generated'] * 100\n",
        "analysis_df['Recycling_Rate'] = analysis_df['Total_Recycling'] / \\\n",
        "                                analysis_df['Total_Waste_Generated'] * 100\n",
        "\n",
        "# Display the result\n",
        "analysis_df.head()"
      ]
    },
    {
      "cell_type": "code",
      "execution_count": null,
      "metadata": {
        "id": "Vb165IJrPw6z"
      },
      "outputs": [],
      "source": [
        "# 쓰레기 매립률을 국가별로 시각화 한다. IpyWidgets으로 드롭다운 버튼을 만들어, 국가 별로 매립량을\n",
        "# 볼 수 있도록 한다.\n",
        "\n",
        "# Function to plot disposal rate for selected country\n",
        "def plot_landfill_rate(country):\n",
        "    country_data = analysis_df[analysis_df['country'] == country]\n",
        "    plt.figure(figsize=(10, 5))\n",
        "    plt.plot(country_data['year'], country_data['Landfill_Rate'], marker='o')\n",
        "    plt.title(f'Landfill Rate Over Time for {country}')\n",
        "    plt.xlabel('Year')\n",
        "    plt.ylabel('Landfill Rate (%)')\n",
        "    plt.grid(True)\n",
        "    plt.show()\n",
        "\n",
        "# Create dropdown for countries\n",
        "countries = analysis_df['country'].unique()\n",
        "dropdown = widgets.Dropdown(options=countries, description='Select Country:')\n",
        "\n",
        "# Interaction between dropdown and plot function\n",
        "widgets.interactive(plot_landfill_rate, country=dropdown)"
      ]
    },
    {
      "cell_type": "code",
      "execution_count": null,
      "metadata": {
        "id": "NqI-20DygHoG"
      },
      "outputs": [],
      "source": [
        "# 쓰레기 재활용률을 국가별로 시각화 한다. IpyWidgets으로 드롭다운 버튼을 만들어, 국가 별로 재활용률을\n",
        "# 볼 수 있도록 한다.\n",
        "\n",
        "# Function to plot disposal rate for selected country\n",
        "def plot_recycling_rate(country):\n",
        "    country_data = analysis_df[analysis_df['country'] == country]\n",
        "    plt.figure(figsize=(10, 5))\n",
        "    plt.plot(country_data['year'], country_data['Recycling_Rate'], marker='o')\n",
        "    plt.title(f'Recycling Rate Over Time for {country}')\n",
        "    plt.xlabel('Year')\n",
        "    plt.ylabel('Recycling Rate (%)')\n",
        "    plt.grid(True)\n",
        "    plt.show()\n",
        "\n",
        "# Create dropdown for countries\n",
        "countries = analysis_df['country'].unique()\n",
        "dropdown = widgets.Dropdown(options=countries, description='Select Country:')\n",
        "\n",
        "# Interaction between dropdown and plot function\n",
        "widgets.interactive(plot_recycling_rate, country=dropdown)"
      ]
    },
    {
      "cell_type": "code",
      "source": [
        "# Filter the data for the selected countries and Landfill Rate measure\n",
        "selected_countries = ['USA', 'Germany', 'Japan', 'UK', 'France', 'Italy',\n",
        "                      'Mexico', 'Australia', 'South Korea', 'Spain']\n",
        "filtered_data = analysis_df[(analysis_df['country'].isin(selected_countries))]\n",
        "\n",
        "# Plotting the line graph using seaborn\n",
        "plt.figure(figsize=(14, 8))\n",
        "sns.lineplot(data=filtered_data, x='year', y='Landfill_Rate', hue='country', marker='o', palette='tab10')\n",
        "\n",
        "# Setting the labels and title\n",
        "plt.xlabel('Year')\n",
        "plt.ylabel('Landfill Rate')\n",
        "plt.title('Landfill Rate Over Time for Selected Countries')\n",
        "plt.legend(title='Country')\n",
        "plt.xticks(rotation=45)\n",
        "plt.grid(True)\n",
        "\n",
        "# Show the plot\n",
        "plt.show()"
      ],
      "metadata": {
        "id": "J0OT8u3J9xNi"
      },
      "execution_count": null,
      "outputs": []
    },
    {
      "cell_type": "code",
      "source": [
        "# Plotting the line graph using seaborn\n",
        "plt.figure(figsize=(14, 8))\n",
        "sns.lineplot(data=filtered_data, x='year', y='Recycling_Rate', hue='country', marker='o', palette='tab10')\n",
        "\n",
        "# Setting the labels and title\n",
        "plt.xlabel('Year')\n",
        "plt.ylabel('Landfill Rate')\n",
        "plt.title('Landfill Rate Over Time for Selected Countries')\n",
        "plt.legend(title='Country')\n",
        "plt.xticks(rotation=45)\n",
        "plt.grid(True)\n",
        "\n",
        "# Show the plot\n",
        "plt.show()"
      ],
      "metadata": {
        "id": "MM4JyKMB__ed"
      },
      "execution_count": null,
      "outputs": []
    },
    {
      "cell_type": "code",
      "execution_count": null,
      "metadata": {
        "id": "ViPM6uW_p_wZ"
      },
      "outputs": [],
      "source": [
        "# 쓰레기 매립률을 전체 국가와 비교해서 그래프를 만든다. 몇몇 국가는 100%나 아주 높은 매립률을\n",
        "# 보여주는데, 이는 이상치나 재활용을 하기 어려운 나라로 판단된다.\n",
        "def plot_landfill_rates():\n",
        "    fig = px.line(analysis_df, x='year', y='Landfill_Rate', color='country',\n",
        "                  title='Yearly Landfill Rates by Country',\n",
        "                  labels={'Landfill_Rate': 'Landfill Rate (%)',\n",
        "                          'year': 'Year'})\n",
        "    fig.update_traces(mode='lines+markers')\n",
        "    fig.show()\n",
        "\n",
        "plot_landfill_rates()"
      ]
    },
    {
      "cell_type": "code",
      "execution_count": null,
      "metadata": {
        "id": "igtYJ0K1q0zE"
      },
      "outputs": [],
      "source": [
        "# 쓰레기 재활용률을 전체 국가와 비교해서 그래프를 만든다. 한국이 가장 높은 재활용률을 기록하고 있으며,\n",
        "# 미국은 낮은 20%대의 재활용률을 기록 중이다.\n",
        "def plot_recycling_rates():\n",
        "    fig = px.line(analysis_df, x='year', y='Recycling_Rate', color='country',\n",
        "                  title='Yearly Recycling Rates by Country',\n",
        "                  labels={'Recycling_Rate': 'Recycling Rate (%)',\n",
        "                          'year': 'Year'})\n",
        "    fig.update_traces(mode='lines+markers')\n",
        "    fig.show()\n",
        "\n",
        "plot_recycling_rates()"
      ]
    },
    {
      "cell_type": "code",
      "execution_count": null,
      "metadata": {
        "id": "IgGPSb20jrCW"
      },
      "outputs": [],
      "source": [
        "# 미국의 전체적인 지표 확인\n",
        "analysis_df[analysis_df['country'] == 'USA']"
      ]
    },
    {
      "cell_type": "markdown",
      "metadata": {
        "id": "mekLFAFI1CIo"
      },
      "source": [
        "#### 결론:\n",
        "전체적인 지표로 확인 결과, 미국보다 낮은 재활용률을 기록한 나라나, 높은 매립률을 기록한 나라들은 존재한다. 하지만 OECD 국가 중 가장 많은 인구수를 가진 미국의 입장에서 고려한다면 미국의 재활용률과 매립률은 상당히 다른 나라의 비해 부족한 것으로 판단된다. 긍정적인 면은, 2005년 이후로 매립률과 재활용률이 상당히 개선되고 있지만, 2018년에는 쓰레기량이 늘어남과 동시에 다시 안 좋아지는 추세로 확인된다."
      ]
    },
    {
      "cell_type": "markdown",
      "metadata": {
        "id": "eZ5gbCcyPxbr"
      },
      "source": [
        "### 가설 3: 미국이 재활용 쓰레기 처리 비율이 낮을 때, 이산화탄소 배출량이 높을것이다."
      ]
    },
    {
      "cell_type": "code",
      "execution_count": null,
      "metadata": {
        "id": "L3VnnpLbPzgC"
      },
      "outputs": [],
      "source": [
        "# 오리지널 데이터프레임과 쓰레기 비율을 계산한 데이터프레임을 병합한다.\n",
        "dataset = pd.merge(df, analysis_df, on=['country', 'year'], how='left')\n",
        "dataset"
      ]
    },
    {
      "cell_type": "code",
      "execution_count": null,
      "metadata": {
        "id": "MCROvQu4vtt7"
      },
      "outputs": [],
      "source": [
        "# 병합한 데이터 저장\n",
        "dataset.to_csv('corr_df.csv', index=False)"
      ]
    },
    {
      "cell_type": "code",
      "source": [
        "# 미국으로 국가 필터링\n",
        "usa_data = dataset[dataset['country'] == 'USA']"
      ],
      "metadata": {
        "id": "jBUFGOqd0GyJ"
      },
      "execution_count": null,
      "outputs": []
    },
    {
      "cell_type": "code",
      "execution_count": null,
      "metadata": {
        "id": "OjkpQfYhxua8"
      },
      "outputs": [],
      "source": [
        "# 미국의 열 이름 추출\n",
        "numeric_list = usa_data.describe().columns\n",
        "# 컬럼 별 상관관계를 계산하여 변수에 저장\n",
        "corr_data = usa_data[numeric_list].corr()"
      ]
    },
    {
      "cell_type": "code",
      "execution_count": null,
      "metadata": {
        "id": "38DmYcCDyOzb"
      },
      "outputs": [],
      "source": [
        "# 데이터 확인\n",
        "corr_data"
      ]
    },
    {
      "cell_type": "code",
      "execution_count": null,
      "metadata": {
        "id": "HTnQ_wTRyRCi"
      },
      "outputs": [],
      "source": [
        "# 상관관계 행렬 시각화\n",
        "plt.figure(figsize=(12, 8))\n",
        "sns.heatmap(corr_data, annot=True, cmap='coolwarm', fmt=\".2f\", linewidths=.5)\n",
        "plt.title('Correlation Matrix of Waste Variables and Co2 Emissions')\n",
        "plt.show()"
      ]
    },
    {
      "cell_type": "code",
      "execution_count": null,
      "metadata": {
        "id": "HrAH5h0bybgq"
      },
      "outputs": [],
      "source": [
        "# Median split for Recycling Rate\n",
        "median_recycling_rate = corr_data['Recycling_Rate'].median()\n",
        "high_recycling_group = corr_data[corr_data['Recycling_Rate'] >= \\\n",
        "                                 median_recycling_rate]['co2_emission']\n",
        "low_recycling_group = corr_data[corr_data['Recycling_Rate'] < \\\n",
        "                                median_recycling_rate]['co2_emission']\n",
        "\n",
        "# T-test for Recycling Rate groups\n",
        "ttest_result_recycling = ttest_ind(high_recycling_group,\n",
        "                                   low_recycling_group, equal_var=False)\n",
        "\n",
        "# Median split for Landfill Rate\n",
        "median_landfill_rate = corr_data['Landfill_Rate'].median()\n",
        "high_landfill_group = corr_data[corr_data['Landfill_Rate'] >= \\\n",
        "                                median_landfill_rate]['co2_emission']\n",
        "low_landfill_group = corr_data[corr_data['Landfill_Rate'] < \\\n",
        "                               median_landfill_rate]['co2_emission']\n",
        "\n",
        "# T-test for Landfill Rate groups\n",
        "ttest_result_landfill = ttest_ind(high_landfill_group,\n",
        "                                  low_landfill_group, equal_var=False)\n",
        "\n",
        "ttest_result_recycling, ttest_result_landfill"
      ]
    },
    {
      "cell_type": "markdown",
      "metadata": {
        "id": "CX76_Z8qzd9N"
      },
      "source": [
        "T-Test 결과, p-value가 둘다 < 0.05 이므로 높은 재활용률 집단과 낮은 재활용률 집단 간의 CO2 배출량에 통계적으로 유의미한 차이가 있음을 나타내고, 높은 매립률 집단과 낮은 매립률 집단 간의 CO2 배출량에 통계적으로 유의미한 차이가 존재한다는걸 시사한다.\n",
        "\n",
        "#### 해석\n",
        "- Recycling Rate: 높은 재활용률이 CO2 배출을 감소시키는 것과 관련이 있을 수 있음을 시사한다.\n",
        "- Landfill Rate: 높은 매립률이 높은 CO2 배출과 관련이 있을 가능성을 나타낸다.\n",
        "\n",
        "따라서 재활용률을 개선한다면 CO2 배출을 감소시킬 수 있을 것이라 보여진다. 이를 위해 아나바다 재활용 독려 앱 개발을 시작한다."
      ]
    },
    {
      "cell_type": "markdown",
      "metadata": {
        "id": "0hMxNfq4OmIn"
      },
      "source": [
        "# 데이터 분석(해커톤 이후)\n",
        "\n",
        "아나바다 앱 개발 이후, 미국인들의 기후변화 회의론에 대해 반박하기 위하여, 데이터 분석을 추가로 진행해보기로 결정하였다. 실제로, 14%의 미국인들이 기후 변화는 증거가 없다고 생각하며, 67%의 인구는 환경 과학자를 믿지 않는다고 한다. 이들을 설득하고 환경 보호 전략을 개발하기 위해 다양한 환경 및 사회 경제 데이터를 분석하고, 어떤 요인이 지구 온난화에 가장 기여를 하는 요인인지 분석을 진행해본다."
      ]
    },
    {
      "cell_type": "markdown",
      "metadata": {
        "id": "R_ezmIjEep43"
      },
      "source": [
        "### 온도 Anomaly 시각화\n",
        "\n",
        "Our Wolrd In Data에서 가져온 Average Temperature Anomaly 데이터로 시각화를 진행해본다."
      ]
    },
    {
      "cell_type": "code",
      "source": [
        "# Anomaly 데이터 불러오기\n",
        "temp = pd.read_csv(\"temperature-anomaly.csv\")\n",
        "temp.head()"
      ],
      "metadata": {
        "id": "nOwGSkve3hdI"
      },
      "execution_count": null,
      "outputs": []
    },
    {
      "cell_type": "code",
      "execution_count": null,
      "metadata": {
        "id": "J9zCGtMxeIDQ"
      },
      "outputs": [],
      "source": [
        "#지역 별로 나누기\n",
        "en_global = temp[temp['Entity']=='Global'].drop(columns={'Code'})\n",
        "en_north = temp[temp['Entity']=='Northern hemisphere'].drop(columns={'Code'})\n",
        "en_south = temp[temp['Entity']=='Southern hemisphere'].drop(columns={'Code'})\n",
        "\n",
        "# 컬럼 이름 수정\n",
        "en_global.rename(columns={'Global average temperature anomaly relative to 1961-1990':'average_temperature_anomaly'},\n",
        "                          inplace=True)\n",
        "en_north.rename(columns={'Global average temperature anomaly relative to 1961-1990':'average_temperature_anomaly'},\n",
        "                          inplace=True)\n",
        "en_south.rename(columns={'Global average temperature anomaly relative to 1961-1990':'average_temperature_anomaly'},\n",
        "                          inplace=True)"
      ]
    },
    {
      "cell_type": "code",
      "execution_count": null,
      "metadata": {
        "id": "Q5z9VnelezZg"
      },
      "outputs": [],
      "source": [
        "# 선 그래프를 사용하여 지역별 아노말리 데이터 시각화\n",
        "fig, axs = plt.subplots(1,3, figsize=(20,5))\n",
        "sns.lineplot(data=en_global,x='Year', y='average_temperature_anomaly',\n",
        "             label='Global', ax=axs[0], color='green')\n",
        "sns.lineplot(data=en_north,x='Year', y='average_temperature_anomaly',\n",
        "             label='Northern Hemisphere',  ax=axs[1], color='red')\n",
        "sns.lineplot(data=en_south,x='Year', y='average_temperature_anomaly',\n",
        "             label='Southern Hemisphere', ax=axs[2], color='blue')\n",
        "\n",
        "y_min, y_max = axs[0].get_ylim()\n",
        "\n",
        "for ax in axs:\n",
        "    ax.axhline(0, color='red', linestyle='--')\n",
        "    ax.set_ylim(y_min, y_max)\n",
        "    ax.legend(loc='upper left')\n",
        "\n",
        "fig.suptitle('World Average Temperature Anomaly', fontsize=16)"
      ]
    },
    {
      "cell_type": "code",
      "execution_count": null,
      "metadata": {
        "id": "uWaqUgReiv_S"
      },
      "outputs": [],
      "source": [
        "# 한 플롯 안에 선 그래프 시각화\n",
        "plt.figure(figsize=(12,10))\n",
        "plt.title('World Average Temperature Anomaly', fontsize=16)\n",
        "plt.axhline(0, color='red', linestyle='--')\n",
        "sns.lineplot(data=en_global, x='Year', y='average_temperature_anomaly',\n",
        "             label='Global', color='green')\n",
        "sns.lineplot(data=en_north, x='Year', y='average_temperature_anomaly',\n",
        "             label='Northern Hemisphere', color='red')\n",
        "sns.lineplot(data=en_south, x='Year', y='average_temperature_anomaly',\n",
        "             label='Southern Hemisphere', color='blue')\n",
        "\n",
        "plt.legend()\n",
        "\n",
        "# 각 텍스트 위치 계산 (마지막 데이터 지점의 y값 가져오기)\n",
        "last_value_global = en_global[en_global['Year'] == 2024]\\\n",
        "                             ['average_temperature_anomaly'].values[0]\n",
        "last_value_north = en_north[en_north['Year'] == 2024]\\\n",
        "                           ['average_temperature_anomaly'].values[0]\n",
        "last_value_south = en_south[en_south['Year'] == 2024]\\\n",
        "                           ['average_temperature_anomaly'].values[0]\n",
        "\n",
        "# 텍스트 추가\n",
        "plt.text(2025, last_value_global, 'Global', color='green',\n",
        "         fontsize=12, va='center')\n",
        "plt.text(2025, last_value_north, 'North', color='red',\n",
        "         fontsize=12, va='center')\n",
        "plt.text(2025, last_value_south, 'South', color='blue',\n",
        "         fontsize=12, va='center')"
      ]
    },
    {
      "cell_type": "markdown",
      "source": [
        "#### 결과:\n",
        "Average Temperature Anomaly란 1950~1980년대의 평균 온도를 0도로 하고, 연도 별 평균 온도가 기준점인 0도 보다 얼만큼 차이나는지를 보여주는 수치이다. 시각화로 본 결과, 전체적으로 온도가 시간이 갈 수록 상승하는 것으로 보여지며, 특히 **북쪽 국가**에서는 더 높게 온도가 상승하는 것으로 보여진다."
      ],
      "metadata": {
        "id": "eKKjlZvB5WuH"
      }
    },
    {
      "cell_type": "markdown",
      "metadata": {
        "id": "jgeMCmGvzp96"
      },
      "source": [
        "### Forest Area Visualization"
      ]
    },
    {
      "cell_type": "code",
      "execution_count": null,
      "metadata": {
        "id": "FtpqhMtpvB6D"
      },
      "outputs": [],
      "source": [
        "# forest 데이터 시각화 전 전처리\n",
        "import pandas as pd\n",
        "df = pd.read_csv('forest_area.csv')"
      ]
    },
    {
      "cell_type": "code",
      "execution_count": null,
      "metadata": {
        "id": "1pb4GrOAvLCP"
      },
      "outputs": [],
      "source": [
        "# forest area 평균 낸 후, 데이터 저장\n",
        "df.groupby('Year')['Forest area'].mean().reset_index().to_csv('World_forest_area_mean.csv', index=False)"
      ]
    },
    {
      "cell_type": "code",
      "execution_count": null,
      "metadata": {
        "id": "B_kL62IvGKqu"
      },
      "outputs": [],
      "source": [
        "# Checking info of forest dataset\n",
        "df.info()"
      ]
    },
    {
      "cell_type": "code",
      "execution_count": null,
      "metadata": {
        "id": "DQDbrwQSjK-0"
      },
      "outputs": [],
      "source": [
        "# 국가별 산림면적 데이터를 시각화 하기 위해 국가 좌표 데이터도 불러온다.\n",
        "# Reading country code csv file\n",
        "country_coords = pd.read_csv('country-coord.csv')\n",
        "country_coords"
      ]
    },
    {
      "cell_type": "code",
      "execution_count": null,
      "metadata": {
        "id": "jguoS0pgnc3M"
      },
      "outputs": [],
      "source": [
        "# 국가 좌표 데이터 상 국가 이름과 산림 면적 데이터 안에 있는 국가 이름이 다른것들이 있으므로 확인 후\n",
        "# 전처리 한다.\n",
        "# Check for unique country names in both datasets to identify discrepancies\n",
        "forest_countries = set(df['Entity'].unique())\n",
        "coord_countries = set(country_coords['Country'].unique())\n",
        "\n",
        "# Find discrepancies between the two datasets\n",
        "missing_in_forest = coord_countries - forest_countries\n",
        "missing_in_coord = forest_countries - coord_countries\n",
        "\n",
        "missing_in_forest, missing_in_coord"
      ]
    },
    {
      "cell_type": "code",
      "execution_count": null,
      "metadata": {
        "id": "r_jGjHxwnk5p"
      },
      "outputs": [],
      "source": [
        "# 이름을 맵핑하여 통합한다. 대부분의 나라들의 이름은 통일하고, 세부적인 나라의 이름일 경우(예: World)\n",
        "# 맵핑하지 않기로 결정하였다.\n",
        "# Creating a mapping dictionary to correct country names in\n",
        "# `forest_area_df` to match those in `country_coord_df`\n",
        "\n",
        "name_mapping = {\n",
        "    'Bolivia': 'Bolivia, Plurinational State of',\n",
        "    'Czechia': 'Czech Republic',\n",
        "    'Democratic Republic of Congo': 'Congo, the Democratic Republic of the',\n",
        "    'Eswatini': 'Swaziland',\n",
        "    'Iran': 'Iran, Islamic Republic of',\n",
        "    'Laos': \"Lao People's Democratic Republic\",\n",
        "    'Libya': 'Libyan Arab Jamahiriya',\n",
        "    'Moldova': 'Moldova, Republic of',\n",
        "    'North Korea': \"Korea, Democratic People's Republic of\",\n",
        "    'South Korea': 'Korea, Republic of',\n",
        "    'Russia': 'Russian Federation',\n",
        "    'Syria': 'Syrian Arab Republic',\n",
        "    'Tanzania': 'Tanzania, United Republic of',\n",
        "    'East Timor': 'Timor-Leste',\n",
        "    'Venezuela': 'Venezuela, Bolivarian Republic of',\n",
        "    'Vietnam': 'Viet Nam',\n",
        "    'Vatican': 'Holy See (Vatican City State)',\n",
        "    'Taiwan': 'Taiwan, Province of China',\n",
        "    'Macedonia': 'Macedonia, the former Yugoslav Republic of',\n",
        "    'Palestine': 'Palestinian Territory, Occupied',\n",
        "    'Micronesia': 'Micronesia, Federated States of',\n",
        "    'Brunei': 'Brunei Darussalam',\n",
        "    'Côte d\\'Ivoire': \"Côte d'Ivoire\",\n",
        "    'Falkland Islands': 'Falkland Islands (Malvinas)',\n",
        "    'French Guyana': 'French Guiana',\n",
        "    'U.S. Virgin Islands': 'Virgin Islands, U.S.',\n",
        "    'British Virgin Islands': 'Virgin Islands, British',\n",
        "    'Wallis and Futuna Islands': 'Wallis and Futuna'\n",
        "}\n",
        "\n",
        "# Apply the mapping to the forest_area_df\n",
        "df['Entity'] = df['Entity'].replace(name_mapping)\n",
        "\n",
        "# Check again for any discrepancies\n",
        "forest_countries = set(df['Entity'].unique())\n",
        "missing_in_forest = coord_countries - forest_countries\n",
        "missing_in_coord = forest_countries - coord_countries\n",
        "\n",
        "missing_in_forest, missing_in_coord"
      ]
    },
    {
      "cell_type": "code",
      "execution_count": null,
      "metadata": {
        "id": "tcP2ZJHFjA0t"
      },
      "outputs": [],
      "source": [
        "# 국가 좌표 데이터와 산림 면적 데이터 병합\n",
        "# Renaming columns to standardize them for merging\n",
        "country_coords.rename(columns={\"Country\": \"Entity\",\n",
        "                               \"Alpha-3 code\": \"Iso_Alpha\",\n",
        "                               \"Latitude (average)\": \"Latitude\",\n",
        "                               \"Longitude (average)\": \"Longitude\"},\n",
        "                      inplace=True)\n",
        "\n",
        "# Merging the forest area data with the country coordinates data\n",
        "merged_data = pd.merge(df, country_coords[['Entity', \"Iso_Alpha\",'Latitude',\n",
        "                                           'Longitude']],\n",
        "                      on='Entity')\n",
        "\n",
        "# Checking the merged data\n",
        "merged_data.head()"
      ]
    },
    {
      "cell_type": "code",
      "source": [
        "# 분석 리포트용: 전체 국가들의 전체 산림 면적 연도별 증감 트렌드 시각화\n",
        "# Plotting the line graph using seaborn\n",
        "plt.figure(figsize=(14, 8))\n",
        "sns.regplot(data=df[df['Entity'] == 'World'], x='Year', y='Forest area',\n",
        "             color='Green', marker='o')\n",
        "\n",
        "# Setting the labels and title\n",
        "plt.xlabel('Year')\n",
        "plt.ylabel('Forest Area')\n",
        "plt.title('World Forest Area Over Time')\n",
        "plt.xticks(rotation=45)\n",
        "plt.grid(True)\n",
        "\n",
        "# Show the plot\n",
        "plt.show()"
      ],
      "metadata": {
        "id": "-BOMmN0pJhkB"
      },
      "execution_count": null,
      "outputs": []
    },
    {
      "cell_type": "code",
      "execution_count": null,
      "metadata": {
        "id": "e8f9SYI0jSim"
      },
      "outputs": [],
      "source": [
        "# 산림 면적 지도 시각화\n",
        "# Setting Custom Pastel tone green color\n",
        "custom_green_colors = [\n",
        "    \"#F7FCF5\", # 매우 연한 녹색\n",
        "    \"#D9F0D3\", # 밝은 녹색\n",
        "    \"#A6DBA0\", # 연한 녹색\n",
        "    \"#74C476\", # 중간 녹색\n",
        "    \"#31A354\", # 짙은 녹색\n",
        "    \"#006D2C\", # 매우 짙은 녹색\n",
        "    \"#00441B\"   # 거의 검은 녹색\n",
        "]\n",
        "\n",
        "# Drawing choropleth map of forest area\n",
        "fig = fig = px.choropleth(\n",
        "        merged_data,\n",
        "        locations='Iso_Alpha',\n",
        "        color='Forest area',\n",
        "        hover_name='Entity',\n",
        "        title='Global Forest Area From 1990 to 2020',\n",
        "        projection='natural earth',\n",
        "        animation_frame='Year',\n",
        "        range_color=(0, 500000000.0),\n",
        "        color_continuous_scale=custom_green_colors\n",
        "    )\n",
        "fig.update_layout(margin={\"r\":0,\"t\":0,\"l\":0,\"b\":0})\n",
        "fig.show()"
      ]
    },
    {
      "cell_type": "markdown",
      "source": [
        "#### 결론:\n",
        "\n",
        "세계 산림 면적 데이터를 시각화해본 결과, 전체적으로 산림면적이 빠르게 줄고 있는 것으로 확인 된다."
      ],
      "metadata": {
        "id": "JY00Vi8EM1TD"
      }
    },
    {
      "cell_type": "markdown",
      "source": [
        "### Surface Temperature Visualization"
      ],
      "metadata": {
        "id": "L_1d_ToWcoQQ"
      }
    },
    {
      "cell_type": "code",
      "source": [
        "data = pd.read_csv(\"surface_temp_raw.csv\")\n",
        "data"
      ],
      "metadata": {
        "id": "t2_ZFtS06Ydn"
      },
      "execution_count": null,
      "outputs": []
    },
    {
      "cell_type": "code",
      "source": [
        "# Rename the original 'Year' column to 'Month' to avoid confusion\n",
        "data.rename(columns={\"Year\": \"Month\"}, inplace=True)\n",
        "\n",
        "# Melt the DataFrame to convert year columns into rows\n",
        "melted_data = pd.melt(data, id_vars=[\"Entity\", \"Code\", \"Month\"],\n",
        "                      var_name=\"Year\", value_name=\"Temperature\")\n",
        "\n",
        "# Convert the 'Year' column to numeric for proper sorting and processing\n",
        "melted_data[\"Year\"] = pd.to_numeric(melted_data[\"Year\"])"
      ],
      "metadata": {
        "id": "kUvh6Uca6iHe"
      },
      "execution_count": null,
      "outputs": []
    },
    {
      "cell_type": "code",
      "source": [
        "# Group by Entity, Code, and Year, then calculate the average temperature\n",
        "# for each year\n",
        "cleaned_data = melted_data.groupby([\"Entity\", \"Code\", \"Year\"])[\"Temperature\"] \\\n",
        "                                  .mean().reset_index()\n",
        "\n",
        "# Rename the 'Temperature' column to 'Avg_Temperature'\n",
        "cleaned_data.rename(columns={\"Temperature\": \"Avg_Temperature\"}, inplace=True)"
      ],
      "metadata": {
        "id": "1TZvz2986vii"
      },
      "execution_count": null,
      "outputs": []
    },
    {
      "cell_type": "code",
      "source": [
        "cleaned_data.head()"
      ],
      "metadata": {
        "id": "UvxlC8sb63fA"
      },
      "execution_count": null,
      "outputs": []
    },
    {
      "cell_type": "code",
      "source": [
        "cleaned_data.to_csv(\"surface_temperature.csv\", index=False)"
      ],
      "metadata": {
        "id": "Jh4Pebx066xK"
      },
      "execution_count": null,
      "outputs": []
    },
    {
      "cell_type": "code",
      "source": [
        "# 지구 표면 온도 시각화를 위해 표면 온도 데이터를 가져온다\n",
        "surface = pd.read_csv('surface_temperature.csv')\n",
        "surface"
      ],
      "metadata": {
        "id": "SFjdTghwB5D8"
      },
      "execution_count": null,
      "outputs": []
    },
    {
      "cell_type": "code",
      "source": [
        "# 1990년에서 2020년까지 필터링\n",
        "surface = surface[(surface['Year'] >= 1990) & (surface['Year'] < 2020)]\n",
        "surface"
      ],
      "metadata": {
        "id": "9XYFTE_PCY4U"
      },
      "execution_count": null,
      "outputs": []
    },
    {
      "cell_type": "markdown",
      "source": [
        "#### Surface Temperature w. Plotly"
      ],
      "metadata": {
        "id": "TH8WNgWcCgNB"
      }
    },
    {
      "cell_type": "code",
      "source": [
        "# forest처럼 세계지도에 그려 보기 위해 위경도 있는 데이터 활용\n",
        "country_coords = pd.read_csv('country-coord.csv')\n",
        "country_coords"
      ],
      "metadata": {
        "id": "vwLE9Tc7CaLZ"
      },
      "execution_count": null,
      "outputs": []
    },
    {
      "cell_type": "code",
      "source": [
        "# 국가 좌표 데이터 상 국가 이름과 산림 면적 데이터 안에 있는 국가 이름이 다른것들이 있으므로 확인 후\n",
        "# 전처리 한다.\n",
        "# Check for unique country names in both datasets to identify discrepancies\n",
        "surface_countries = set(surface['Entity'].unique())\n",
        "coord_countries = set(country_coords['Country'].unique())\n",
        "\n",
        "# Find discrepancies between the two datasets\n",
        "missing_in_surface = coord_countries - surface_countries\n",
        "missing_in_coord = surface_countries - coord_countries\n",
        "\n",
        "missing_in_surface, missing_in_coord"
      ],
      "metadata": {
        "id": "Obyrn5vhCb6v"
      },
      "execution_count": null,
      "outputs": []
    },
    {
      "cell_type": "code",
      "source": [
        "# 이름을 맵핑하여 통합한다. 대부분의 나라들의 이름은 통일하고, 세부적인 나라의 이름일 경우(예: World)\n",
        "# 맵핑하지 않기로 결정하였다.\n",
        "replace_dict = {\n",
        "    'Bolivia, Plurinational State of': 'Bolivia',\n",
        "    'Brunei Darussalam': 'Brunei',\n",
        "    \"Côte d'Ivoire\": \"Cote d'Ivoire\",\n",
        "    'Czech Republic': 'Czechia',\n",
        "    'Congo, the Democratic Republic of the': 'Democratic Republic of Congo',\n",
        "    \"Korea, Democratic People's Republic of\": 'North Korea',\n",
        "    'Korea, Republic of': 'South Korea',\n",
        "    \"Lao People's Democratic Republic\": 'Laos',\n",
        "    'Libyan Arab Jamahiriya': 'Libya',\n",
        "    'Macedonia, the former Yugoslav Republic of': 'North Macedonia',\n",
        "    'Moldova, Republic of': 'Moldova',\n",
        "    'Russian Federation': 'Russia',\n",
        "    'Syrian Arab Republic': 'Syria',\n",
        "    'Taiwan, Province of China': 'Taiwan',\n",
        "    'Tanzania, United Republic of': 'Tanzania',\n",
        "    'Timor-Leste': 'East Timor',\n",
        "    'Venezuela, Bolivarian Republic of': 'Venezuela',\n",
        "    'Viet Nam': 'Vietnam',\n",
        "    'Iran, Islamic Republic of': 'Iran',\n",
        "    'Palestinian Territory, Occupied': 'Palestine',\n",
        "    'Saint Helena, Ascension and Tristan da Cunha': 'Saint Helena',\n",
        "    'Falkland Islands (Malvinas)': 'Falkland Islands',\n",
        "    'Swaziland': 'Eswatini',\n",
        "    'Holy See (Vatican City State)': 'Vatican City',\n",
        "    'United States Virgin Islands': 'Virgin Islands, U.S.',\n",
        "}\n",
        "\n",
        "# 데이터셋의 국가 이름 변경\n",
        "surface['Entity'] = surface['Entity'].replace(replace_dict)\n",
        "country_coords['Country'] = country_coords['Country'].replace(replace_dict)\n",
        "\n",
        "# 변경 후에도 여전히 불일치가 있는지 확인\n",
        "surface_countries = set(surface['Entity'].unique())\n",
        "coord_countries = set(country_coords['Country'].unique())\n",
        "\n",
        "missing_in_surface = coord_countries - surface_countries\n",
        "missing_in_coord = surface_countries - coord_countries\n",
        "\n",
        "missing_in_surface, missing_in_coord"
      ],
      "metadata": {
        "id": "K2XjhhgFPdx1"
      },
      "execution_count": null,
      "outputs": []
    },
    {
      "cell_type": "code",
      "source": [
        "# 이름을 통일한 후 데이터프레임을 병합한다.\n",
        "# Renaming columns to standardize them for merging\n",
        "country_coords.rename(columns={\"Country\": \"Entity\",\n",
        "                               \"Alpha-3 code\": \"Iso_Alpha\",\n",
        "                               \"Latitude (average)\": \"Latitude\",\n",
        "                               \"Longitude (average)\": \"Longitude\"},\n",
        "                      inplace=True)\n",
        "\n",
        "# Merging the forest area data with the country coordinates data on the 'Entity' column\n",
        "merged_data = pd.merge(surface, country_coords[['Entity', \"Iso_Alpha\",\n",
        "                                                'Latitude', 'Longitude']],\n",
        "                       on='Entity', how='left')\n",
        "\n",
        "# Checking the merged data\n",
        "merged_data.head()"
      ],
      "metadata": {
        "id": "g1c3co9iCneA"
      },
      "execution_count": null,
      "outputs": []
    },
    {
      "cell_type": "code",
      "source": [
        "# 분석 리포트용: 전체 국가들의 전체 평균 표면 온도 연도별 증감 트렌드 시각화\n",
        "# Plotting the line graph using seaborn\n",
        "plt.figure(figsize=(14, 8))\n",
        "sns.regplot(data=surface[surface['Entity'] == 'World'], x='Year',\n",
        "            y='Avg_Temperature', color=\"#ff3d00\", marker='o')\n",
        "\n",
        "# Setting the labels and title\n",
        "plt.xlabel('Year')\n",
        "plt.ylabel('Average Temperature')\n",
        "plt.title('World Average Temperature Over Time')\n",
        "plt.xticks(rotation=45)\n",
        "plt.grid(True)\n",
        "\n",
        "# Show the plot\n",
        "plt.show()"
      ],
      "metadata": {
        "id": "p-veKjV7SxAR"
      },
      "execution_count": null,
      "outputs": []
    },
    {
      "cell_type": "code",
      "source": [
        "custom_red_yellow_colors = [\n",
        "    \"#FFFF00\",  # Very light pastel yellow\n",
        "    \"#ffe8b5\",  # Light pastel yellow\n",
        "    \"#ffd180\",  # Soft yellow-orange\n",
        "    \"#ffab40\",  # Medium pastel orange\n",
        "    \"#ff8c00\",  # Darker orange\n",
        "    \"#ff5722\",  # Soft red\n",
        "    \"#ff3d00\",  # Bright red\n",
        "    \"#d50000\"   # Dark red\n",
        "]\n",
        "\n",
        "fig = fig = px.choropleth(\n",
        "        merged_data,\n",
        "        locations='Iso_Alpha',\n",
        "        color='Avg_Temperature',\n",
        "        hover_name='Entity',\n",
        "        title='Global Surafce Temperature From 1990 to 2020',\n",
        "        projection='natural earth',\n",
        "        animation_frame='Year',\n",
        "        range_color=(0, 31),\n",
        "        color_continuous_scale=custom_red_yellow_colors\n",
        "    )\n",
        "fig.update_layout(margin={\"r\":0,\"t\":0,\"l\":0,\"b\":0})\n",
        "fig.show()"
      ],
      "metadata": {
        "id": "kIZd6a68CoJK"
      },
      "execution_count": null,
      "outputs": []
    },
    {
      "cell_type": "markdown",
      "source": [
        "#### 국가별 온도 증감율"
      ],
      "metadata": {
        "id": "6q852ursCurz"
      }
    },
    {
      "cell_type": "code",
      "source": [
        "# 온도 증감율을 국가별로 본다.\n",
        "# 각 국가별로 데이터를 나눔\n",
        "countries = merged_data['Entity'].unique()\n",
        "\n",
        "# temp = merged_data['Avg_Temperature'].unique()\n",
        "fig = go.Figure()\n",
        "\n",
        "# 모든 국가의 각 Temperature에 대해 trace 추가\n",
        "for country in countries:\n",
        "  country_data = merged_data[merged_data['Entity'] == country]\n",
        "  fig.add_trace(go.Scatter(\n",
        "      x=country_data['Year'], y=country_data['Avg_Temperature'],\n",
        "      mode='lines+markers', name=f'{country}',\n",
        "      visible=False, # line=go.scatter.Line(color=\"gray\"),\n",
        "      showlegend=True,\n",
        "      connectgaps=False  # 결측값을 만나면 선을 끊어줌\n",
        "  ))\n",
        "\n",
        "# 초기에는 첫 번째 국가만 표시\n",
        "fig.data[0].visible = True\n",
        "\n",
        "# 드롭다운 메뉴 설정\n",
        "dropdown_buttons = [\n",
        "    dict(label=country,\n",
        "         method=\"update\",\n",
        "         args=[{\"visible\": [i == j for i in range(len(fig.data))]},\n",
        "               {\"title\": f\"Trends of Temperature Over Time in {country}\"}])\n",
        "    for j, country in enumerate(countries)\n",
        "]\n",
        "\n",
        "# 레이아웃 설정 - 드롭다운 메뉴만 추가, 버튼 없이\n",
        "fig.update_layout(\n",
        "    updatemenus=[\n",
        "        dict(\n",
        "            active=0,\n",
        "            buttons=dropdown_buttons,\n",
        "            x=1.15,\n",
        "            y=1.15,\n",
        "            xanchor=\"right\",\n",
        "            yanchor=\"top\"\n",
        "        )\n",
        "    ],\n",
        "    title=\"Trends of Temperature Over Time\",\n",
        "    xaxis_title=\"Year\",\n",
        "    yaxis_title=\"Temperature\"\n",
        ")\n",
        "\n",
        "# 그래프 표시\n",
        "fig.show()"
      ],
      "metadata": {
        "id": "cGE_RpB_CsFK"
      },
      "execution_count": null,
      "outputs": []
    },
    {
      "cell_type": "code",
      "source": [
        "# 각 연도의 min max 값 변화율 비교\n",
        "min_temp = surface.groupby('Year')['Avg_Temperature'].min()\n",
        "max_temp = surface.groupby('Year')['Avg_Temperature'].max()\n",
        "\n",
        "z_min = np.polyfit(min_temp.index, min_temp.values, 1)\n",
        "p_min = np.poly1d(z_min)\n",
        "\n",
        "z_max = np.polyfit(max_temp.index, max_temp.values, 1)\n",
        "p_max = np.poly1d(z_max)\n",
        "\n",
        "plt.figure(figsize=(10, 6))\n",
        "\n",
        "plt.plot(min_temp.index, min_temp.values, label='Min Temperature',\n",
        "         color='blue', linestyle='-', marker='o')\n",
        "\n",
        "plt.plot(min_temp.index, p_min(min_temp.index), label='Min Temp Trend',\n",
        "         color='gray', linestyle='--')\n",
        "\n",
        "plt.xlabel('Year')\n",
        "plt.ylabel('Avg Temperature')\n",
        "plt.title('Yearly Min Average Temperatures with Trend Lines')\n",
        "plt.legend()\n",
        "\n",
        "plt.grid(True)\n",
        "plt.show()"
      ],
      "metadata": {
        "id": "8PczviEWC9i5"
      },
      "execution_count": null,
      "outputs": []
    },
    {
      "cell_type": "code",
      "source": [
        "plt.figure(figsize=(10, 6))\n",
        "plt.plot(max_temp.index, max_temp.values, label='Max Temperature', color='red',\n",
        "         linestyle='-', marker='o')\n",
        "plt.plot(max_temp.index, p_max(max_temp.index), label='Max Temp Trend',\n",
        "         color='gray', linestyle='--')\n",
        "\n",
        "plt.xlabel('Year')\n",
        "plt.ylabel('Avg Temperature')\n",
        "plt.title('Yearly Max Average Temperatures with Trend Lines')\n",
        "plt.legend()\n",
        "\n",
        "plt.grid(True)\n",
        "plt.show()"
      ],
      "metadata": {
        "id": "yrNdK7obDD5_"
      },
      "execution_count": null,
      "outputs": []
    },
    {
      "cell_type": "markdown",
      "source": [
        "### greenhouse gas & temperature 통계적 검정"
      ],
      "metadata": {
        "id": "BbhA0yR1bi9T"
      }
    },
    {
      "cell_type": "code",
      "source": [
        "ghg = pd.read_csv(\"ghg_data.csv\")\n",
        "temp = pd.read_csv(\"surface_temp_raw.csv\")"
      ],
      "metadata": {
        "id": "v5xKS6Pvbi9Y"
      },
      "execution_count": null,
      "outputs": []
    },
    {
      "cell_type": "code",
      "source": [
        "# Rename the original 'Year' column to 'Month' to avoid confusion\n",
        "temp.rename(columns={\"Year\": \"Month\"}, inplace=True)\n",
        "\n",
        "# Melt the DataFrame to convert year columns into rows\n",
        "melted_data = pd.melt(temp, id_vars=[\"Entity\", \"Code\", \"Month\"],\n",
        "                      var_name=\"Year\", value_name=\"Temperature\")\n",
        "\n",
        "# Convert the 'Year' column to numeric for proper sorting and processing\n",
        "melted_data[\"Year\"] = pd.to_numeric(melted_data[\"Year\"])"
      ],
      "metadata": {
        "id": "barUhBm7bi9Y"
      },
      "execution_count": null,
      "outputs": []
    },
    {
      "cell_type": "code",
      "source": [
        "melted_data"
      ],
      "metadata": {
        "id": "4lG3B0wYbi9Z"
      },
      "execution_count": null,
      "outputs": []
    },
    {
      "cell_type": "code",
      "source": [
        "# 최소, 평균, 최대 온도를 연도별로 계산\n",
        "temp_df = melted_data.groupby(['Entity', 'Code', 'Year']).agg(\n",
        "    Min_Temperature=('Temperature', 'min'),\n",
        "    Avg_Temperature=('Temperature', 'mean'),\n",
        "    Max_Temperature=('Temperature', 'max')\n",
        ").reset_index()"
      ],
      "metadata": {
        "id": "Ad7g6VI1bi9Z"
      },
      "execution_count": null,
      "outputs": []
    },
    {
      "cell_type": "code",
      "source": [
        "# 기후 변화에 따른 온도 변화가 반영되기 위해서는 몇년의 시간이 걸리는데, 3년 후의 온도 변화를\n",
        "# 반영한다고 가정하여 2020년까지의 기후 변화 효과를 반영하기 위해 1990년부터 2017년까지 필터링해준다.\n",
        "temp_df = temp_df[(temp_df[\"Entity\"] == \"World\") & (temp_df['Year'] >= 1990) &\n",
        "                  (temp_df['Year'] <= 2017)]"
      ],
      "metadata": {
        "id": "qDeySUm_bi9Z"
      },
      "execution_count": null,
      "outputs": []
    },
    {
      "cell_type": "code",
      "source": [
        "ghg.head(5)"
      ],
      "metadata": {
        "id": "iv1b7MqIbi9Z"
      },
      "execution_count": null,
      "outputs": []
    },
    {
      "cell_type": "code",
      "source": [
        "#세계 배출량 데이터가 없어서 oecd로 필터링..\n",
        "oecd = ghg[(ghg['POLLUTANT']=='GHG') & (ghg['Reference area']=='OECD') &\n",
        "           (ghg['UNIT_MEASURE']=='T_CO2E') & (ghg['MEASURE']=='_T') &\n",
        "            (ghg['TIME_PERIOD'] <= 2018)]\n",
        "\n",
        "#OECD 국가 가져오기\n",
        "oecd_countries = ['Australia', 'Austria', 'Belgium', 'Canada', 'Chile',\n",
        "                  'Colombia', 'Costa Rica', 'Czechia', 'Denmark', 'Estonia',\n",
        "                  'Finland', 'France', 'Germany', 'Greece', 'Hungary',\n",
        "                  'Iceland', 'Ireland', 'Israel', 'Italy', 'Japan', 'Latvia',\n",
        "                  'Lithuania', 'Luxembourg', 'Mexico', 'Netherlands',\n",
        "                  'New Zealand', 'Norway', 'Poland', 'Portugal', 'Slovakia',\n",
        "                  'Slovenia', 'South Korea', 'Spain', 'Sweden','Switzerland',\n",
        "                  'Turkey', 'United Kingdom', 'United States']"
      ],
      "metadata": {
        "id": "RTYxETu8bi9Z"
      },
      "execution_count": null,
      "outputs": []
    },
    {
      "cell_type": "code",
      "source": [
        "# oecd 데이터에 필요 없는 column들을 drop한다.\n",
        "oecd.drop(columns={'POLLUTANT', 'Reference area', 'OBS_STATUS', 'UNIT_MULT',\n",
        "                   'Unit multiplier', 'BASE_PER', 'UNIT_MEASURE'},\n",
        "          inplace=True)"
      ],
      "metadata": {
        "id": "mqU_SV6wbi9Z"
      },
      "execution_count": null,
      "outputs": []
    },
    {
      "cell_type": "code",
      "source": [
        "# TIME_PERIOD RENAME\n",
        "oecd.rename(columns={'TIME_PERIOD':'Year'}, inplace=True)"
      ],
      "metadata": {
        "id": "E0QkCmGObi9a"
      },
      "execution_count": null,
      "outputs": []
    },
    {
      "cell_type": "code",
      "source": [
        "# OECD의 온실가스 배출량 연도 별\n",
        "oecd = oecd.groupby(['Year'])['OBS_VALUE'].sum().reset_index()"
      ],
      "metadata": {
        "id": "pNkZH8QWbi9a"
      },
      "execution_count": null,
      "outputs": []
    },
    {
      "cell_type": "code",
      "source": [
        "# OECD 국가의 1990년부터 2017년 사이의 온실가스 총 배출량이 2007년까지 가파르게 상승하다가 이후\n",
        "# 하강하고 있는 모습을 보인다.\n",
        "sns.lineplot(data=oecd, x=\"Year\", y=\"OBS_VALUE\")\n",
        "plt.show()"
      ],
      "metadata": {
        "id": "urYmeoZ5bi9a"
      },
      "execution_count": null,
      "outputs": []
    },
    {
      "cell_type": "code",
      "source": [
        "# 배출량에 따라 온도가 변화하는 지 상관관계를 보기 위해서 데이터 병합\n",
        "df = pd.merge(oecd, temp_df, on=\"Year\")"
      ],
      "metadata": {
        "id": "xp7n8SbHbi9a"
      },
      "execution_count": null,
      "outputs": []
    },
    {
      "cell_type": "code",
      "source": [
        "# 국가명, 코드명 DROP\n",
        "df.drop(columns=['Entity', 'Code'], inplace=True)"
      ],
      "metadata": {
        "id": "5XJqNgzrbi9a"
      },
      "execution_count": null,
      "outputs": []
    },
    {
      "cell_type": "code",
      "source": [
        "# 1990 ~ 2017년 사이의 온도 변화가 있는 것이 통계적으로 유의한지 확인하기 위해서 1990년과 2017년을\n",
        "# 절반으로 나눈 년도인 2004년을 기준으로 두 집단의 온도 차이가 유의미한지 파악하기 위해 T-검정을 실행\n",
        "# 두 평균 비교 T-검정\n",
        "# T-검정 결과 p-value가 0.05미만으로 나타난 것을 보아 두 집단의 차이가 유의미하며,\n",
        "# 온도 변화 역시 유의미했음을 알 수 있음.\n",
        "from scipy.stats import ttest_ind\n",
        "group1 = df[df['Year'] < 2004]['Avg_Temperature']\n",
        "group2 = df[(df['Year'] >= 2004)]['Avg_Temperature']\n",
        "t_stat, p_value = ttest_ind(group1, group2)\n",
        "print(f\"t-statistic: {t_stat}, p-value: {p_value}\")"
      ],
      "metadata": {
        "id": "jfga-QxVbi9a"
      },
      "execution_count": null,
      "outputs": []
    },
    {
      "cell_type": "code",
      "source": [
        "# 전체 온실가스 배출량을 기준으로 한 상관관계 행렬\n",
        "\n",
        "# 배출량에 따라서 최저,최고,평균 온도가 상승하는 것을 볼 수 있으며, 배출량의 총량 역시 연도가 지날수록\n",
        "# 배출량이 증가하고 있음을 알 수 있다.\n",
        "\n",
        "# 배출량에 따라서 최고 온도의 상관계수가 0.07, 평균 온도가 0.14, 최저 기온이 0.05인 것을 보았을 때,\n",
        "# 배출량이 증가할 수록 온도가 상승하고 있음을 볼 수 있다.\n",
        "\n",
        "# Calculate the correlation matrix\n",
        "correlation_matrix = df.corr()\n",
        "\n",
        "# Plot the correlation matrix\n",
        "plt.figure(figsize=(15, 10))\n",
        "sns.heatmap(correlation_matrix, annot=True, cmap='coolwarm', fmt='.2f')\n",
        "plt.title('Correlation Matrix of temperature and GHG Emissions')\n",
        "plt.show()"
      ],
      "metadata": {
        "id": "esVffUw7bi9a"
      },
      "execution_count": null,
      "outputs": []
    },
    {
      "cell_type": "code",
      "source": [
        "df_copy = df.copy()"
      ],
      "metadata": {
        "id": "_B2Bkz8Cbi9a"
      },
      "execution_count": null,
      "outputs": []
    },
    {
      "cell_type": "code",
      "source": [
        "# 기후 변화는 배출량에 따라서 늦게 나타나기 때문에 3년 후의 온도 변화를 가정하여 다시 상관행렬 그리기\n",
        "lag_years = 3\n",
        "df_copy['Lagged_Avg_Temperature'] = df_copy['Avg_Temperature'].shift(-lag_years)\n",
        "df_copy['Lagged_Min_Temperature'] = df_copy['Min_Temperature'].shift(-lag_years)\n",
        "df_copy['Lagged_Max_Temperature'] = df_copy['Max_Temperature'].shift(-lag_years)"
      ],
      "metadata": {
        "id": "kxOIp9Tfbi9b"
      },
      "execution_count": null,
      "outputs": []
    },
    {
      "cell_type": "code",
      "source": [
        "df_copy.dropna(inplace=True)"
      ],
      "metadata": {
        "id": "3DmwLko1bi9b"
      },
      "execution_count": null,
      "outputs": []
    },
    {
      "cell_type": "code",
      "source": [
        "# 3년 후의 온실가스 배출량에 따른 온도변화를 보기 위해 상관관계를 그려본 결과이다.\n",
        "# 배출량 - 3년 후 평균 온도의 상관계수는 0.36, 배출량 - 3년후 최고 온도의 상관계수는 0.35,\n",
        "# 배출량 - 3년 후 최저 온도의 상관계수는 0.32으로 나타나는 것을 보아 배출량에 따라 3년 후의\n",
        "# 온도가 가파르게 상승하고 있음을 볼 수 있다.\n",
        "\n",
        "# 이 점을 통해 환경 변화는 곧바로 나타나는 것이 아닌 점진적으로 나타나고 있음을 볼 수 있다.\n",
        "\n",
        "# Calculate the correlation matrix\n",
        "correlation_matrix = df_copy.corr()\n",
        "\n",
        "# Plot the correlation matrix\n",
        "plt.figure(figsize=(15, 10))\n",
        "sns.heatmap(correlation_matrix, annot=True, cmap='coolwarm', fmt='.2f')\n",
        "plt.title('Correlation Matrix of temperature and GHG Emissions')\n",
        "plt.show()"
      ],
      "metadata": {
        "id": "0iuo2UaYbi9b"
      },
      "execution_count": null,
      "outputs": []
    },
    {
      "cell_type": "markdown",
      "source": [
        "#### Pollutant 별 온도와 상관관계 분석\n",
        "전체 온실가스 배출량과 온도 사이의 상관관계 행렬을 분석한 결과, 온실가스 배출량이 증가함에 따라 기온이 상승한다는 경향을 확인할 수 있었다. 분석에 따르면:\n",
        "현재 온도와의 상관관계: 전체 온실가스 배출량은 최고 온도와 0.07, 평균 온도와 0.14, 최저 온도와 0.05의 상관관계를 보였다. 이는 현재의 온도 변화와 온실가스 배출량 사이의 직접적인 상관관계가 낮음을 나타내며, 즉시적인 기온 변화에 미치는 영향이 크지 않다는 것을 시사한다.\n",
        "3년 후의 온도와의 상관관계: 반면, 전체 온실가스 배출량은 3년 후 평균 온도와 0.36, 3년 후 최고 온도와 0.35, 3년 후 최저 온도와 0.32의 더 높은 상관관계를 나타냈다. 이는 온실가스 배출이 시간이 지남에 따라 기온 상승에 더 큰 영향을 미칠 수 있음을 보여준다. 특히, 온실가스 배출량이 기온 변화에 대한 지연 효과를 가지고 있으며, 시간이 흐를수록 그 영향력이 더욱 커진다는 것을 시사한다.\n",
        "이러한 결과를 바탕으로, 온실가스 배출량이 기후 변화, 특히 기온 상승에 중요한 역할을 한다는 것을 알 수 있다. 그러나, 전체 온실가스 배출량이 온도 변화에 미치는 영향을 구체적으로 이해하기 위해서는 각 개별 온실가스가 기후 변화에 어떤 영향을 끼치는지 추가적인 분석이 필요하다.\n",
        "따라서, 우리는 각 온실가스(Pollutant)별로 온도와의 상관관계 분석을 수행하여, CO2, HFC, NF3 등 특정 온실가스가 기후 변화에 얼마나 큰 영향을 미치는지 확인하였다."
      ],
      "metadata": {
        "id": "mVz47ESmbi9b"
      }
    },
    {
      "cell_type": "code",
      "source": [
        "data = pd.read_csv('Preprocessed_Data/processed_ghg.csv')"
      ],
      "metadata": {
        "id": "mCSlHUHRbi9b"
      },
      "execution_count": null,
      "outputs": []
    },
    {
      "cell_type": "code",
      "source": [
        "# POLLUTANT만 가져오고, 1990년부터 2015년 사이로 필터링한 후, POLLUTANT 중 결측치가\n",
        "# 2/3인 6대 온실가스에 들지 않는 'HFC_PFC_NSP'를 DROP한다.\n",
        "data = data[(data['POLLUTANT'] != 'GHG') &\n",
        "            (data['TIME_PERIOD'] <= 2015) &\n",
        "            (data['TIME_PERIOD'] >= 1990) &\n",
        "            (data['UNIT_MEASURE'] == 'T_CO2E') &\n",
        "            (data['MEASURE'] == '_T') &\n",
        "             (data['POLLUTANT'] != 'HFC_PFC_NSP')]"
      ],
      "metadata": {
        "id": "VjI_IOMRbi9b"
      },
      "execution_count": null,
      "outputs": []
    },
    {
      "cell_type": "code",
      "source": [
        "# 필요없는 column은 drop한다.\n",
        "data.drop(columns=['OBS_STATUS', 'UNIT_MULT', 'Unit multiplier', 'BASE_PER'],\n",
        "          inplace=True)"
      ],
      "metadata": {
        "id": "XMy_mXf0bi9b"
      },
      "execution_count": null,
      "outputs": []
    },
    {
      "cell_type": "code",
      "source": [
        "# pollutant 종류별로 각 연도에 obs_value의 합이 얼마나 되는지?\n",
        "data.rename(columns={\"TIME_PERIOD\":\"Year\"}, inplace=True)\n",
        "data"
      ],
      "metadata": {
        "id": "scEa69Hhbi9c"
      },
      "execution_count": null,
      "outputs": []
    },
    {
      "cell_type": "code",
      "source": [
        "# 각 오염물질의 배출량이 해가 지날 수록 어느정도 되는지 확인하기 위하여 데이터의 구조를\n",
        "# unstack()를 사용하여 melt함.\n",
        "data_newcol = data.groupby(['Year', 'POLLUTANT'])['OBS_VALUE'].sum() \\\n",
        "                          .unstack().reset_index()"
      ],
      "metadata": {
        "id": "D7zTt7Vzbi9c"
      },
      "execution_count": null,
      "outputs": []
    },
    {
      "cell_type": "code",
      "source": [
        "data_newcol"
      ],
      "metadata": {
        "id": "oxFZXvmZbi9c"
      },
      "execution_count": null,
      "outputs": []
    },
    {
      "cell_type": "code",
      "source": [
        "# 전세계 연도 별 온도 변화 평균 값 데이터 import\n",
        "temp_ghg = pd.read_csv('temp_ghg.csv')\n",
        "temp_ghg"
      ],
      "metadata": {
        "id": "D6rzDbBpbi9c"
      },
      "execution_count": null,
      "outputs": []
    },
    {
      "cell_type": "code",
      "source": [
        "# 두 셀 병합\n",
        "merge_df = pd.merge(temp_ghg, data_newcol, on='Year')"
      ],
      "metadata": {
        "id": "9uh1COcMbi9c"
      },
      "execution_count": null,
      "outputs": []
    },
    {
      "cell_type": "code",
      "source": [
        "merge_df"
      ],
      "metadata": {
        "id": "fF0gFIIabi9c"
      },
      "execution_count": null,
      "outputs": []
    },
    {
      "cell_type": "code",
      "source": [
        "# pollutant 배출량에 따른 온도 변화 상관관계 행렬\n",
        "plt.figure(figsize=(12,10))\n",
        "sns.heatmap(merge_df.corr(method='spearman'), annot=True, fmt='.2f',\n",
        "            linewidth=.5, cmap='coolwarm')"
      ],
      "metadata": {
        "id": "MIptHNc8bi9c"
      },
      "execution_count": null,
      "outputs": []
    },
    {
      "cell_type": "markdown",
      "source": [
        "다음과 같은 상관관계 행렬을 분석해본 결과, CO2, HFC, NF3가 3년 뒤의 평균 기온, 최저 기온, 최고 기온에 상당한 영향을 미치는 주요 온실가스로 나타났다.\n",
        "\n",
        "CO2는 3년 뒤의 평균 기온과 0.39, 최저 기온과 0.40, 최고 기온과 0.22의 상관관계를 보인다. 이는 CO2 배출이 기온 변화에 비교적 적당한 수준의 상관관계를 가지고 있음을 의미한다. 특히, 최저 기온과의 상관계수가 가장 높게 나타났다.\n",
        "\n",
        "HFC(수소불화탄소)는 평균 기온과 0.82, 최저 기온과 0.72, 최고 기온과 0.70의 높은 상관관계를 보여준다. 이는 HFC가 모든 기온 지표에 대해 매우 높은 상관관계를 가지며, 온난화에 가장 큰 영향을 미치는 가스 중 하나임을 나타났다. 특히, 평균 기온과의 상관관계가 가장 높게 나타났다.\n",
        "\n",
        "NF3(삼불화질소)는 평균 기온과 0.78, 최저 기온과 0.66, 최고 기온과 0.71의 상관관계를 보인다. 이로 인해 NF3 역시 기온 변화에 상당한 영향을 미치는 온실가스로 볼 수 있으며, HFC와 비슷하게 모든 기온 지표에 대해 강한 상관관계를 나타냈다.\n",
        "\n",
        "이러한 상관계수 결과에 따라 CO2, HFC, NF3와 같은 온실가스들은 대기 중 농도가 증가함에 따라 향후 몇 년 동안 평균 기온, 최저 기온, 최고 기온 모두에 걸쳐 기온을 상승시키는 경향이 있음을 시사한다. 특히, HFC와 NF3의 경우 높은 상관계수가 나타나면서 강력한 기온 상승 영향력을 가진다고 볼 수 있다. 따라서, 이러한 온실가스의 배출을 줄이는 것은 기후 변화 대응에 있어 중요한 과제로 보여진다."
      ],
      "metadata": {
        "id": "w75e1mrTYlXc"
      }
    },
    {
      "cell_type": "markdown",
      "source": [
        "## Machine Learning Modeling: 선형혼합효과, Light Gradient Boosting Model, Random Forest 모델을 통한 요인 분석\n",
        "\n",
        "상관관계 분석 및 T-검정을 통해 확인한 결과 연도가 지날수록 지구표면온도 변화가 유의미했으며 그에 따른 온실가스와 온도변화의 상관관계가 양수로 나타나므로 온도 상승과 온실가스는 연관이 있다고 보여진다. 따라서 온실가스를 이루는 유해물질들 중 가장 영향을 끼치는 요인을 찾기 위해 머신러닝을 통해 요인 분석을 진행해본다."
      ],
      "metadata": {
        "id": "OVhtX0YyWB_z"
      }
    },
    {
      "cell_type": "markdown",
      "source": [
        "### 선형혼합효과 회귀 분석"
      ],
      "metadata": {
        "id": "_ElLEqDrxzrw"
      }
    },
    {
      "cell_type": "markdown",
      "source": [
        "$$\n",
        "\\begin{aligned}\n",
        "\\text{Global Average Temperature} &= X\\beta + Zb \\\\\n",
        "X &= \\text{CH4, CO2, HFC, N20, PFC, SF6}\\\\\n",
        "Z &= \\text{Country, Year}\n",
        "\\end{aligned}\n",
        "$$\n",
        "\n",
        "국가와 연도별로 환경 오염물질(CH4, CO2 등)이 지구 표면 온도 상승에 어떤 영향을 끼치는지 분석하기 위해 Linear Mixed Effects Model (선형 혼합 효과 모델)을 사용하기로 결정했다. 이 모델을 사용한 이유는 다음과 같다:\n",
        "\n",
        "- **국가 간 및 연도 간 변동성 고려**: 각 국가와 연도의 고유한 특성을 랜덤 효과로 모델링하여, 국가별 차이와 시간적 변동성을 반영할 수 있다.\n",
        "\n",
        "- **계층적 데이터 구조 처리**: 국가와 연도 간의 계층적 구조를 명시적으로 모델에 반영하여, 데이터의 복잡한 상호작용과 오차 구조를 정확히 다룰 수 있다.\n",
        "\n",
        "이 모델을 적용하기 위해 전처리부터 진행한다."
      ],
      "metadata": {
        "id": "r7CbqV81JNIO"
      }
    },
    {
      "cell_type": "code",
      "source": [
        "#OECD 국가 가져오기\n",
        "oecd_countries = ['Australia', 'Austria', 'Belgium', 'Canada', 'Chile',\n",
        "                  'Colombia', 'Costa Rica', 'Czechia', 'Denmark', 'Estonia',\n",
        "                  'Finland', 'France', 'Germany', 'Greece', 'Hungary',\n",
        "                  'Iceland', 'Ireland', 'Israel', 'Italy', 'Japan', 'Latvia',\n",
        "                  'Lithuania', 'Luxembourg', 'Mexico', 'Netherlands',\n",
        "                  'New Zealand', 'Norway', 'Poland', 'Portugal', 'Slovakia',\n",
        "                  'Slovenia', 'South Korea', 'Spain', 'Sweden','Switzerland',\n",
        "                  'Turkey', 'United Kingdom', 'United States']"
      ],
      "metadata": {
        "id": "uny4qQUfIinb"
      },
      "execution_count": null,
      "outputs": []
    },
    {
      "cell_type": "code",
      "source": [
        "#ghg_data 가져오기\n",
        "ghg_data = pd.read_csv('/content/drive/MyDrive/아나바다/Data/ghg_data.csv')\n",
        "ghg_data"
      ],
      "metadata": {
        "id": "8QyJXt15LlTV"
      },
      "execution_count": null,
      "outputs": []
    },
    {
      "cell_type": "code",
      "source": [
        "# oecd 국가 이름이 다르게 표기되어 있는 걸 딕셔너리로 매핑하기\n",
        "name_mapping = {\n",
        "    'Czech Republic': 'Czechia',\n",
        "    'Korea': 'South Korea',\n",
        "    'Türkiye': 'Turkey',\n",
        "    'Slovak Republic': 'Slovakia',\n",
        "    'Korea, Republic of': 'South Korea'\n",
        "}"
      ],
      "metadata": {
        "id": "uUM2oUl6eW5l"
      },
      "execution_count": null,
      "outputs": []
    },
    {
      "cell_type": "code",
      "source": [
        "#oecd 국가 이름이 다르게 표기되어 있는 걸 oecd_countries에 따라 매핑\n",
        "ghg_data['Reference area'] = ghg_data['Reference area'].replace(name_mapping)"
      ],
      "metadata": {
        "id": "zzXtg_pGeXwZ"
      },
      "execution_count": null,
      "outputs": []
    },
    {
      "cell_type": "code",
      "source": [
        "# 조건 필터링\n",
        "ghg_data = ghg_data[(ghg_data['Reference area'].isin(oecd_countries)) &\n",
        "                    (ghg_data['UNIT_MEASURE']=='T_CO2E') &\n",
        "                     (ghg_data['MEASURE']=='_T')]"
      ],
      "metadata": {
        "id": "u29WeRUlMmGo"
      },
      "execution_count": null,
      "outputs": []
    },
    {
      "cell_type": "code",
      "source": [
        "# 1990년 이상, 2019년 이하의 데이터로 필터링하기\n",
        "# 2020년 이후로는 코로나의 영향이 있기에 이상치로 판단, 제외하기로 결정\n",
        "ghg_data = ghg_data[['Reference area','POLLUTANT','OBS_VALUE','TIME_PERIOD']]\n",
        "ghg_data = ghg_data[(ghg_data['TIME_PERIOD']>=1990) &\n",
        "                    (ghg_data['TIME_PERIOD']<=2019)]"
      ],
      "metadata": {
        "id": "6TahfzxDNNQg"
      },
      "execution_count": null,
      "outputs": []
    },
    {
      "cell_type": "code",
      "source": [
        "# POLLUTANT 값이 매우 적음 + HFC_PFC_NSP의 NULL 값이 많아 DROP 하기\n",
        "ghg_df = ghg_data[~(ghg_data['POLLUTANT']=='HFC_PFC_NSP')]\n",
        "\n",
        "# GHG_DF를 가지고 PIVOT TABLE 만들기\n",
        "ghg_df = ghg_df.pivot_table(index=['TIME_PERIOD','Reference area'],\n",
        "                            columns='POLLUTANT',values='OBS_VALUE') \\\n",
        "                            .reset_index()\n",
        "ghg_df"
      ],
      "metadata": {
        "id": "2NJ7QDtPMW-Z"
      },
      "execution_count": null,
      "outputs": []
    },
    {
      "cell_type": "code",
      "source": [
        "# 개인 관점에서 줄일 수 있는 것도 아니고 POLLUTANT 데이터에서 NF3의 값이 1/3도 없으므로,\n",
        "# 평균값을 대체하거나 그러면 데이터 이상이 생길수도 있으니 그냥 DROP한다.\n",
        "ghg_df.drop(columns={'NF3'}, inplace=True)"
      ],
      "metadata": {
        "id": "nisEjLqXUdMc"
      },
      "execution_count": null,
      "outputs": []
    },
    {
      "cell_type": "code",
      "source": [
        "#ghg_df sorting\n",
        "ghg_df = ghg_df.sort_values(by=['Reference area','TIME_PERIOD'])\n",
        "ghg_df.rename(columns={'TIME_PERIOD':'Year', 'Reference area':'Entity'},\n",
        "              inplace=True)"
      ],
      "metadata": {
        "id": "-rQZCszoVpJe"
      },
      "execution_count": null,
      "outputs": []
    },
    {
      "cell_type": "code",
      "source": [
        "# 각 POLLUTANT들을 결측치 대체하기\n",
        "missing_values = ghg_df.isna().sum()\n",
        "missing_values = missing_values[missing_values > 0]  # 결측치가 있는 열만 필터링\n",
        "missing_values"
      ],
      "metadata": {
        "id": "4K5VDkN5U4hv"
      },
      "execution_count": null,
      "outputs": []
    },
    {
      "cell_type": "code",
      "source": [
        "# 결측치는 시간과 국가별 데이터이기에 평균값으로 대체하기엔 무리라고 판단. 따라서 이전 값이나 다음 값으로 대체\n",
        "for column in missing_values.index:\n",
        "    ghg_df[column].fillna(method='ffill', inplace=True)  # 이전 값으로 채우기\n",
        "    ghg_df[column].fillna(method='bfill', inplace=True)  # 이후 값으로 채우기"
      ],
      "metadata": {
        "id": "OKsIIvg_VHrz"
      },
      "execution_count": null,
      "outputs": []
    },
    {
      "cell_type": "code",
      "source": [
        "# 데이터 결측치 확인\n",
        "ghg_df.info()"
      ],
      "metadata": {
        "id": "BeNCriCM_chA"
      },
      "execution_count": null,
      "outputs": []
    },
    {
      "cell_type": "code",
      "source": [
        "surf_temp = pd.read_csv('/content/drive/MyDrive/아나바다/Data/surface_temperature.csv')\n",
        "surf_temp"
      ],
      "metadata": {
        "id": "laoV1CZxdthQ"
      },
      "execution_count": null,
      "outputs": []
    },
    {
      "cell_type": "code",
      "source": [
        "#oecd 국가 이름이 다르게 표기되어 있는 걸 oecd_countries에 따라 매핑\n",
        "surf_temp['Entity'] = surf_temp['Entity'].replace(name_mapping)"
      ],
      "metadata": {
        "id": "uqCDI8Zyey6h"
      },
      "execution_count": null,
      "outputs": []
    },
    {
      "cell_type": "code",
      "source": [
        "# oecd 국가로만 필터링하기\n",
        "# 1990년부터 2019년까지 필터링 (2020년 부터는 코로나의 영향이 있었으므로)\n",
        "surf_temp = surf_temp[surf_temp['Entity'].isin(oecd_countries)]\n",
        "surf_temp[(surf_temp['Year']>=1990) & (surf_temp['Year']<=2019)]\n",
        "surf_temp.rename(columns={\"Avg_Temperature\": \"Temperature\"}, inplace=True)"
      ],
      "metadata": {
        "id": "eDqkvMQwZYUx"
      },
      "execution_count": null,
      "outputs": []
    },
    {
      "cell_type": "code",
      "source": [
        "# Check for unique country names in both datasets to identify discrepancies\n",
        "surf_countries = set(surf_temp['Entity'].unique())\n",
        "ghg_countries = set(ghg_df['Entity'].unique())\n",
        "# Find discrepancies between the two datasets\n",
        "missing_in_ghg = surf_countries - ghg_countries\n",
        "missing_in_surf = ghg_countries - surf_countries\n",
        "missing_in_surf, missing_in_ghg"
      ],
      "metadata": {
        "id": "-cjL6wVhaVql"
      },
      "execution_count": null,
      "outputs": []
    },
    {
      "cell_type": "code",
      "source": [
        "# 데이터 병합\n",
        "df = pd.merge(ghg_df,surf_temp, on=['Year','Entity'])"
      ],
      "metadata": {
        "id": "VS0V3lvvfq8T"
      },
      "execution_count": null,
      "outputs": []
    },
    {
      "cell_type": "markdown",
      "source": [
        "#### Global Warming Potential(GWP)\n",
        "출처: \"Our World in Data\"\n",
        "\n",
        "![Global-warming-potential-of-greenhouse-gases-over-100-year-timescale-gwp_(OWID_0525).png](data:image/png;base64,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)\n",
        "\n",
        "- 지구온난화 잠재력(GWP)은 특정 온실가스가 이산화탄소(CO₂)와 비교하여 얼마나 강력하게 지구 온난화에 기여하는지를 나타내는 지표이다. SF₆의 GWP가 23,500으로 가장 높아, 다른 가스들(PFC-14: 6,630, N₂O: 265, HFC-152a: 138, CH₄: 28, CO₂: 1)을 크게 능가함을 보여준다. 이를 통해, 소량의 고GWP 가스(SF₆ 등)가 CO₂에 비해 지구온난화에 훨씬 큰 영향을 미칠 수 있음을 알 수 있다. Pollutant들의 지구 온난화 잠재력 가중치를 계산하여 머신 러닝 모델에 적용하기로 결정했다."
      ],
      "metadata": {
        "id": "R5QGOLypOH65"
      }
    },
    {
      "cell_type": "code",
      "source": [
        "# GWP 가중치 계산\n",
        "df['GWP_CH4'] = df['CH4'] * 28\n",
        "df['GWP_HFC'] = df['HFC'] * 138\n",
        "df['GWP_N2O'] = df['N2O'] * 265\n",
        "df['GWP_PFC'] = df['PFC'] * 6630\n",
        "df['GWP_SF6'] = df['SF6'] * 23500\n",
        "\n",
        "# 머신 러닝 모델 적용을 위해 X, y값 나누기\n",
        "X = df[['GWP_CH4', 'CO2', 'GWP_HFC', 'GWP_N2O', 'GWP_PFC', 'GWP_SF6']]\n",
        "y = df['Temperature']\n",
        "\n",
        "# Feature들의 Histogram을 그려 전체적인 데이터의 분포를 확인한다.\n",
        "fig, axes = plt.subplots(nrows=2, ncols=3, figsize=(15, 20))\n",
        "fig.subplots_adjust(hspace=0.5, wspace=0.3)\n",
        "\n",
        "# Assigning columns to subplots\n",
        "for ax, column in zip(axes.flatten(),  X.columns):\n",
        "    ax.hist(df[column], bins=20, color='skyblue', edgecolor='black')\n",
        "    ax.set_title(column)\n",
        "    ax.set_xlabel('Value')\n",
        "    ax.set_ylabel('Frequency')\n",
        "\n",
        "plt.show()"
      ],
      "metadata": {
        "id": "0cgGp2wrNbNE"
      },
      "execution_count": null,
      "outputs": []
    },
    {
      "cell_type": "code",
      "source": [
        "# 데이터를 시각화해본 결과, 정규 분포를 따르고 있지 않기 때문에 정규화가 필요한 것으로 보여진다.\n",
        "# 따라서 로그 변환을 통해 진행해본다.\n",
        "\n",
        "# X값 로그 변환\n",
        "X[['GWP_CH4', 'CO2', 'GWP_HFC', 'GWP_N2O', 'GWP_PFC', 'GWP_SF6']] = \\\n",
        "np.log1p(X[['GWP_CH4', 'CO2', 'GWP_HFC', 'GWP_N2O', 'GWP_PFC', 'GWP_SF6']])\n",
        "\n",
        "\n",
        "# Feature들의 Histogram을 그려 전체적인 데이터의 분포를 확인한다.\n",
        "fig, axes = plt.subplots(nrows=2, ncols=3, figsize=(15, 20))\n",
        "fig.subplots_adjust(hspace=0.5, wspace=0.3)\n",
        "\n",
        "# Assigning columns to subplots\n",
        "for ax, column in zip(axes.flatten(), X.columns):\n",
        "    ax.hist(X[column], bins=20, color='skyblue', edgecolor='black')\n",
        "    ax.set_title(column)\n",
        "    ax.set_xlabel('Value')\n",
        "    ax.set_ylabel('Frequency')\n",
        "\n",
        "plt.show()\n"
      ],
      "metadata": {
        "id": "6jxceoxyNbNF"
      },
      "execution_count": null,
      "outputs": []
    },
    {
      "cell_type": "code",
      "source": [
        "# 데이터 로그 스케일링을 통해 배출량 단위 정규화를 한 후 Train_Test_Split을 통해\n",
        "# 70%, 30%로 학습과 테스트 데이터로 나눈다.\n",
        "X_train, X_test, y_train, y_test = train_test_split(X, y, test_size=0.3,\n",
        "                                                    random_state=123)"
      ],
      "metadata": {
        "id": "z4NkEjIuNbNF"
      },
      "execution_count": null,
      "outputs": []
    },
    {
      "cell_type": "code",
      "source": [
        "# Linear Mixed Effects Model (선형혼합효과) 모델\n",
        "md = smf.mixedlm(\"Temperature ~ GWP_CH4 + CO2 + GWP_HFC + GWP_N2O + GWP_PFC \\\n",
        "                              + GWP_SF6\",\n",
        "                 data = df, groups = df[\"Entity\"], re_formula = \"~Year\")\n",
        "mdf = md.fit()\n",
        "print(mdf.summary())"
      ],
      "metadata": {
        "id": "SmeD7SfTgRab"
      },
      "execution_count": null,
      "outputs": []
    },
    {
      "cell_type": "code",
      "source": [
        "# Assign residual values\n",
        "residuals = mdf.resid\n",
        "# Draw Histogram of Residuals\n",
        "fig, ax = plt.subplots()\n",
        "ax.hist(residuals, bins = 20)\n",
        "ax.set_xlabel(\"Residuals\")\n",
        "ax.set_ylabel(\"Frequency\")\n",
        "ax.set_title(\"Histogram of Residuals\")"
      ],
      "metadata": {
        "id": "p88pHPWUgvPj"
      },
      "execution_count": null,
      "outputs": []
    },
    {
      "cell_type": "code",
      "source": [
        "# Draw Q-Q plot of Residuals\n",
        "fig, ax = plt.subplots()\n",
        "sm.qqplot(residuals, line = 's', ax = ax)\n",
        "ax.set_title(\"Q-Q Plot of Residuals\")\n",
        "plt.show()"
      ],
      "metadata": {
        "id": "7Rk5PmeKgv5k"
      },
      "execution_count": null,
      "outputs": []
    },
    {
      "cell_type": "code",
      "source": [
        "# 공분산 계산하기\n",
        "# Group 변수는 매우 큰 변동성을 가지고 있고, Year 변수는 비교적 작은 변동성을 가지고 있다.\n",
        "# Group과 Year 사이에는 음의 상관관계가 있을 가능성이 있다.\n",
        "cov_re = mdf.cov_re\n",
        "print(cov_re)"
      ],
      "metadata": {
        "id": "sIcyDY1tlGaz"
      },
      "execution_count": null,
      "outputs": []
    },
    {
      "cell_type": "code",
      "source": [
        "# 랜덤 이펙트 출력\n",
        "random_effects = mdf.random_effects\n",
        "print(random_effects)"
      ],
      "metadata": {
        "id": "pDlnx9NNqMpW"
      },
      "execution_count": null,
      "outputs": []
    },
    {
      "cell_type": "code",
      "source": [
        "# 순위 매기기\n",
        "ranked_group = sorted(random_effects.items(), key = lambda x: x[1]['Group'],\n",
        "                      reverse = True)\n",
        "ranked_group"
      ],
      "metadata": {
        "id": "RF6mVKjUW7Bz"
      },
      "execution_count": null,
      "outputs": []
    },
    {
      "cell_type": "markdown",
      "source": [
        "로그 변환을 해본 결과, p-value값이 높게 나오는 현상이 있으며, 모든 변수가 p-value > 0.05로 나왔다."
      ],
      "metadata": {
        "id": "rkbamTxiHZiS"
      }
    },
    {
      "cell_type": "code",
      "source": [
        "# Prediction Error\n",
        "lr_plot_1 = LinearRegression()\n",
        "visualizer = PredictionError(lr_plot_1)\n",
        "visualizer.fit(X_train, y_train)\n",
        "visualizer.score(X_test, y_test)\n",
        "visualizer.poof()"
      ],
      "metadata": {
        "id": "0zk0wBgZEPAl"
      },
      "execution_count": null,
      "outputs": []
    },
    {
      "cell_type": "code",
      "source": [
        "# 데이터에 다중공선성이 있을수도 있겠다고 파악된다. 따라서 LASSO와 VIF를 사용해서 다중공선성 유무를\n",
        "# 판단해본다.\n",
        "\n",
        "# 라소 회귀 모델 생성 (α 값 수동 설정)\n",
        "lasso = make_pipeline(Lasso(alpha=0.01))\n",
        "lasso.fit(X, y)\n",
        "\n",
        "# 회귀 계수 확인\n",
        "lasso_coefficients = lasso.named_steps['lasso'].coef_\n",
        "print(\"Lasso coefficients:\", lasso_coefficients)\n",
        "\n",
        "# 모델 성능 평가 (R^2 값)\n",
        "r_squared = lasso.score(X, y)\n",
        "print(f\"R-squared: {r_squared}\")"
      ],
      "metadata": {
        "id": "EUj2lfoX83Pc"
      },
      "execution_count": null,
      "outputs": []
    },
    {
      "cell_type": "code",
      "source": [
        "# 라쏘 회귀 결과, 모든 변수들이 살아 남았지만 계수들의 수치가 이상하게 판단이 된다. 또한 R^2값이\n",
        "# 좋은 결과가 아니기에 모델이 적합하지 않다고 판단했다.\n",
        "# 여전히 변수들이 서로 독립적인 관계가 아닐수도 있다고 파악이 된다.\n",
        "# 따라서 변수들의 VIF(분산 팽창 요인)를 계산하여 변수들의 관계를 확인한다.\n",
        "# > 10 일경우 다중공선성이 있는 변수로 파악된다.\n",
        "from statsmodels.stats.outliers_influence import variance_inflation_factor\n",
        "from statsmodels.tools.tools import add_constant\n",
        "\n",
        "# 독립 변수만 추출\n",
        "X_constant = add_constant(df[['GWP_CH4', 'CO2', 'GWP_HFC', 'GWP_N2O',\n",
        "                              'GWP_PFC', 'GWP_SF6']])\n",
        "\n",
        "# VIF 계산\n",
        "vif = pd.DataFrame()\n",
        "vif[\"Variable\"] = X.columns\n",
        "vif[\"VIF\"] = [variance_inflation_factor(X.values, i) for i in range(X.shape[1])]\n",
        "\n",
        "print(vif)"
      ],
      "metadata": {
        "id": "NuROERVih4j8"
      },
      "execution_count": null,
      "outputs": []
    },
    {
      "cell_type": "markdown",
      "source": [
        "모델링을 하여 접근해 본 결과, 대부분의 변수들의 p-value 값이 > 0.05로 나타나고 있다. 또한 Linear Regression Model의 R-Squared값을 계산한 결과, 0.380라는 일치하지 못하는 결과가 나왔고, LASSO회귀를 사용해본 결과, R-Squared값이 0.34라는 점수를 기록하며 일치하지 못하는 결과가 나왔다. VIF를 계산해본 결과, 실제로 모든 값들이 > 10의 값을 가지며 이는 다중공선성이 있다고 판단된다. 즉, 선형의 데이터가 아닌것처럼 보여진다. 따라서 PyCaret을 사용하여 어떤 모델이 적합할지 빠르게 파악해보기로 결정하였다."
      ],
      "metadata": {
        "id": "nQyVftidLrzy"
      }
    },
    {
      "cell_type": "markdown",
      "source": [
        "### PyCaret"
      ],
      "metadata": {
        "id": "cmtuYXYAnWWC"
      }
    },
    {
      "cell_type": "code",
      "source": [
        "# PyCaret 환경 설정\n",
        "pycaret_df = df[['GWP_CH4', 'CO2', 'GWP_HFC', 'GWP_N2O', 'GWP_PFC', 'GWP_SF6',\n",
        "                 'Temperature']]\n",
        "regression_setup = setup(data=df, target='Temperature', session_id=123, normalize=True)\n",
        "\n",
        "# 다양한 모델 비교\n",
        "best_model = compare_models()\n",
        "\n",
        "# 비교 결과 보기\n",
        "model_comparison = pull()\n",
        "print(model_comparison)"
      ],
      "metadata": {
        "id": "Hw0X86bD9H87"
      },
      "execution_count": null,
      "outputs": []
    },
    {
      "cell_type": "markdown",
      "source": [
        "#### 결과:\n",
        "PyCaret을 돌려본 결과, GBM 모델들과, Random Forest 모델이 가장 좋은 성능을 보이는 것으로 파악된다. Gradient Boosting Model의 R^2 값이 큰 차이가 없고, RMSE값도 큰 차이가 없기 때문에, 계산에 빠르고 효율적인 LGBM을 선택했다. 따라서 앙상블 트리 모델인 Random Forest와 Light Gradient Boosting Model로 진행하기로 결정하였다."
      ],
      "metadata": {
        "id": "42Nr299onwfx"
      }
    },
    {
      "cell_type": "markdown",
      "source": [
        "### Ensemble Tree Model: Light Gradient Boosting Model\n",
        "\n",
        "LightGBM은 여러 개의 결정 트리(Decision Trees)를 기반으로 모델을 학습시키며, 특히 대규모 데이터셋과 고차원의 데이터에 대해 효율적이고 빠르게 작동한다.\n",
        "\n",
        "LGBM을 사용하면 다음과 같은 이점이 있다:\n",
        "* Gradient Boosting 기반: LightGBM은 Gradient Boosting 알고리즘을 기반으로 작동하는 모델이다. 이 알고리즘은 여러 약한 학습기(주로 결정 트리)를 순차적으로 학습시키며, 각 단계에서 이전 모델의 오류를 줄이도록 새로운 모델을 추가한다.\n",
        "\n",
        "* 속도와 성능: LightGBM은 대용량 데이터셋에서도 높은 속도로 학습이 가능하며, 메모리 사용량이 적다.\n",
        "\n",
        "* Leaf-wise 트리 성장: LightGBM은 깊이가 다른 트리 구조를 만들어 내는 Leaf-wise 방식으로 트리를 성장시킨다.\n",
        "\n",
        "* Handling Imbalanced Data: 불균형 데이터 처리에 유리하며, 이를 통해 클래스 비율이 불균형한 데이터셋에서 좋은 성능을 보일 수 있다."
      ],
      "metadata": {
        "id": "UhAtJ7Aa89JS"
      }
    },
    {
      "cell_type": "code",
      "source": [
        "# LGBM 모델 셋업\n",
        "lgbm = LGBMRegressor(n_estimators=50,random_state=0)\n",
        "lgbm.fit(X_train, y_train)\n",
        "# 모델 예측\n",
        "y_pred = lgbm.predict(X_test)\n",
        "rmse = np.sqrt(mean_squared_error(y_test, y_pred))\n",
        "# 스코어 출력 및 RMSE 값 출력\n",
        "print('LGBM Train Score: ',lgbm.score(X_train,y_train))\n",
        "print('LGBM Test Score: ',lgbm.score(X_test,y_test))\n",
        "print(f\"RMSE: {rmse}\")"
      ],
      "metadata": {
        "id": "_D6K_MaFkALG"
      },
      "execution_count": null,
      "outputs": []
    },
    {
      "cell_type": "code",
      "source": [
        "# 3. 잔차 계산\n",
        "residuals = y_test - y_pred\n",
        "\n",
        "# 4. 잔차 플롯 그리기\n",
        "plt.figure(figsize=(10, 6))\n",
        "plt.scatter(y_pred, residuals, color='blue', edgecolor='k', alpha=0.6)\n",
        "plt.hlines(y=0, xmin=min(y_pred), xmax=max(y_pred), color='red')\n",
        "plt.xlabel('Predicted Values')\n",
        "plt.ylabel('Residuals')\n",
        "plt.title('Residual Plot')\n",
        "plt.show()"
      ],
      "metadata": {
        "id": "pPWTsUERkB-d"
      },
      "execution_count": null,
      "outputs": []
    },
    {
      "cell_type": "code",
      "source": [
        "# Draw Histogram of Residuals\n",
        "fig, ax = plt.subplots()\n",
        "ax.hist(residuals, bins = 20)\n",
        "ax.set_xlabel(\"Residuals\")\n",
        "ax.set_ylabel(\"Frequency\")\n",
        "ax.set_title(\"Histogram of Residuals\")"
      ],
      "metadata": {
        "id": "KDH-ChyvkDRS"
      },
      "execution_count": null,
      "outputs": []
    },
    {
      "cell_type": "markdown",
      "source": [
        "### Ensemble Tree Model: Random Forest Model\n",
        "\n",
        "다음으로는 앙상블 트리 모델인 랜덤 포레스트를 적용해본다. 랜덤 포레스트 회귀 모델(Random Forest Regressor)은 앙상블 학습 기법 중 하나로, 여러 개의 결정 트리(Decision Trees)를 결합하여 예측 성능을 향상시키는 모델이다. 각 결정 트리는 독립적으로 학습되고, 이 트리들의 예측 평균을 통해 최종 예측 값을 산출한다. 랜덤 포레스트는 데이터의 부분 샘플링과 특성 샘플링을 통해 다수의 트리를 학습시키고, 이를 앙상블함으로써 과적합(overfitting)을 방지하고 예측의 정확성을 높인다.\n",
        "\n",
        "이 모델은 높은 비선형성이나 복잡한 상호작용을 가진 데이터에서 우수한 성능을 보이며, 데이터의 노이즈에 강한 특성을 가지고 있다. 또한, 랜덤 포레스트는 모델의 해석 가능성(각 특성의 중요도를 계산하여)을 제공하며, 모델이 자동으로 특성의 중요도를 학습하므로 특성 선택 과정에서 유리하다."
      ],
      "metadata": {
        "id": "_jzGhevkVAVF"
      }
    },
    {
      "cell_type": "code",
      "source": [
        "# 랜덤포레스트 적용\n",
        "model = RandomForestRegressor(n_estimators=30,random_state=0, oob_score=True)\n",
        "model.fit(X_train, y_train)\n",
        "\n",
        "y_pred = model.predict(X_test)\n",
        "rmse = np.sqrt(mean_squared_error(y_test, y_pred))\n",
        "\n",
        "print('RF Train Score: ',model.score(X_train,y_train))\n",
        "print('RF Test Score: ',model.score(X_test,y_test))\n",
        "print(f\"RMSE: {rmse}\")\n",
        "print(\"OOB Score:\", model.oob_score_ )"
      ],
      "metadata": {
        "id": "CXA88l12kFNs"
      },
      "execution_count": null,
      "outputs": []
    },
    {
      "cell_type": "code",
      "source": [
        "# 3. 잔차 계산\n",
        "residuals = y_test - y_pred\n",
        "\n",
        "# 4. 잔차 플롯 그리기\n",
        "plt.figure(figsize=(10, 6))\n",
        "plt.scatter(y_pred, residuals, color='blue', edgecolor='k', alpha=0.6)\n",
        "plt.hlines(y=0, xmin=min(y_pred), xmax=max(y_pred), color='red')\n",
        "plt.xlabel('Predicted Values')\n",
        "plt.ylabel('Residuals')\n",
        "plt.title('Residual Plot')\n",
        "plt.show()"
      ],
      "metadata": {
        "id": "feoFDAvmZaKA"
      },
      "execution_count": null,
      "outputs": []
    },
    {
      "cell_type": "code",
      "source": [
        "# Draw Histogram of Residuals\n",
        "fig, ax = plt.subplots()\n",
        "ax.hist(residuals, bins = 20)\n",
        "ax.set_xlabel(\"Residuals\")\n",
        "ax.set_ylabel(\"Frequency\")\n",
        "ax.set_title(\"Histogram of Residuals\")"
      ],
      "metadata": {
        "id": "9DqI_fEDkHYD"
      },
      "execution_count": null,
      "outputs": []
    },
    {
      "cell_type": "code",
      "source": [
        "# Feature Importance 시각화 함수\n",
        "def feature_importance_func(importance, name, model_type):\n",
        "  # Create Arrays from Feature Importance and Names\n",
        "  feature_importance = np.array(importance)\n",
        "  feature_names = np.array(name)\n",
        "\n",
        "  # Create Dataframe using a Dictionary\n",
        "  data = {'feature_names': feature_names, 'feature_importance': feature_importance}\n",
        "  fi_df = pd.DataFrame(data)\n",
        "\n",
        "  # Sort in Descending Order of Feature Importance\n",
        "  fi_df.sort_values(by = ['feature_importance'], ascending = False, inplace = True)\n",
        "\n",
        "  # Set Figure Size\n",
        "  plt.figure(figsize = (6, 4))\n",
        "  # Plot Bar Chart\n",
        "  sns.set(style = \"whitegrid\")\n",
        "  sns.barplot(x = fi_df['feature_importance'], y = fi_df['feature_names'],\n",
        "              palette = \"rocket\")\n",
        "  # Add Labels\n",
        "  plt.title(model_type + ' FEATURE IMPORTANCE', fontsize = 10)\n",
        "  plt.xlabel('FEATURE IMPORTANCE', fontsize = 7)\n",
        "  plt.ylabel('FEATURE NAMES', fontsize = 7)"
      ],
      "metadata": {
        "id": "6YubH_fp9kdH"
      },
      "execution_count": null,
      "outputs": []
    },
    {
      "cell_type": "code",
      "source": [
        "# LGBM 피처 중요도 시각화\n",
        "feature_importance_func(lgbm.feature_importances_,\n",
        "                        X_train.columns, 'LGBM')"
      ],
      "metadata": {
        "id": "O40d0C9j9o9C"
      },
      "execution_count": null,
      "outputs": []
    },
    {
      "cell_type": "code",
      "source": [
        "# Random Forest 피처 중요도 시각화\n",
        "feature_importance_func(model.feature_importances_,\n",
        "                         X_test.columns, 'Random Forest')"
      ],
      "metadata": {
        "id": "pzh1V64B9rAt"
      },
      "execution_count": null,
      "outputs": []
    },
    {
      "cell_type": "markdown",
      "source": [
        "### **모델링 결론**:\n",
        "\n",
        "두 모델(Light Gradient Boosting Model과 Random Forest Model)의 성능을 비교한 결과, 각각의 모델은 높은 학습 및 테스트 점수를 기록했지만, Random Forest Model이 약간 더 우수한 성능을 보이는것으로 파악된다.\n",
        "\n",
        "- **LightGBM**:\n",
        "  - **Train Score**: 0.9779\n",
        "  - **Test Score**: 0.9108\n",
        "  - **RMSE**: 1.8164\n",
        "  - **결과 분석**: LightGBM 모델은 훈련 데이터에서 높은 점수를 기록했으나, 테스트 데이터에서 약간의 성능 저하가 발생했다. 잔차 플롯과 히스토그램에서는 약간의 비대칭성과 이상값이 보이며, 주요 피처로는 GWP_PFC, GWP_CH4, CO2가 높은 중요도를 가지는것으로 파악된다.\n",
        "\n",
        "- **Random Forest**:\n",
        "  - **Train Score**: 0.9904\n",
        "  - **Test Score**: 0.9548\n",
        "  - **RMSE**: 1.2940\n",
        "  - **OOB Score**: 0.9342\n",
        "  - **결과 분석**: Random Forest 모델은 훈련 데이터와 테스트 데이터 모두에서 높은 점수를 기록하며, LGBM 모델보다 낮은 RMSE를 보여주었다. 잔차 플롯에서는 더 균일한 분포를 보이며, GWP_PFC, GWP_CH4, CO2가 주요 피처로 나타난다.\n",
        "\n",
        "### 결론\n",
        "Random Forest 모델은 LightGBM 모델에 비해 테스트 성능이 더 우수하며, 낮은 RMSE와 높은 OOB 점수를 기록하였다. 이는 Random Forest 모델이 주어진 데이터셋에서 더 안정적이고 일반화된 성능을 발휘함을 나타낸다. 두 모델 모두 **PFC, CH4, CO2**가 중요한 피처로 작용하며, 이들 피처가 지구온난화에 큰 영향을 미치는 것으로 해석할 수 있다.\n"
      ],
      "metadata": {
        "id": "xFHpBsLVYroA"
      }
    }
  ],
  "metadata": {
    "colab": {
      "collapsed_sections": [
        "TH8WNgWcCgNB"
      ],
      "provenance": []
    },
    "kernelspec": {
      "display_name": "Python 3",
      "name": "python3"
    },
    "language_info": {
      "name": "python"
    }
  },
  "nbformat": 4,
  "nbformat_minor": 0
}